{
 "cells": [
  {
   "cell_type": "markdown",
   "metadata": {
    "toc": true
   },
   "source": [
    "<h1>Table of Contents<span class=\"tocSkip\"></span></h1>\n",
    "<div class=\"toc\"><ul class=\"toc-item\"><li><span><a href=\"#Aula-3\" data-toc-modified-id=\"Aula-3-1\"><span class=\"toc-item-num\">1&nbsp;&nbsp;</span>Aula 3</a></span></li><li><span><a href=\"#Referências\" data-toc-modified-id=\"Referências-2\"><span class=\"toc-item-num\">2&nbsp;&nbsp;</span>Referências</a></span></li></ul></div>"
   ]
  },
  {
   "cell_type": "markdown",
   "metadata": {},
   "source": [
    "* Aula 1: metodologia de trabalho\n",
    "* Aula 2: instalação de pacotes, nomenclatura e estrutura dos dados\n",
    "* Aula 3: entendimento dos dados \n",
    "* Aula 4: preparação dos dados\n",
    "* Aula 5: Modelo (arvore de decisao)\n",
    "* Aula 6: avaliação (matriz de confusão; acurácia; \n",
    "* Aula 7: deploy "
   ]
  },
  {
   "cell_type": "markdown",
   "metadata": {},
   "source": [
    "# Aula 3"
   ]
  },
  {
   "cell_type": "markdown",
   "metadata": {},
   "source": [
    "* **Entendimento do negócio**"
   ]
  },
  {
   "cell_type": "markdown",
   "metadata": {},
   "source": [
    "Antes de tudo, é importante entender o que deve ser feito. Algumas perguntas que podem nos ajudar são:"
   ]
  },
  {
   "cell_type": "markdown",
   "metadata": {},
   "source": [
    "* Quais os Objetivos Gerais? Quais os Objetivos Especificos?\n",
    "\n",
    "* Qual é o problema que você está tentando resolver?\n",
    "\n",
    "* Por que ele é importante?\n",
    "\n",
    "* A partir de uma solução hipotética para o problema, como esta solução afetaria a empresa?\n",
    "\n",
    "* Temos capacidade de agir com base nessa solução ou também precisamos desenvolver essa habilidade?\n",
    "\n",
    "* Como vamos medir o sucesso da solução implementada (KPI)? O que faria dela um sucesso? Qual métrica será utilizada?\n",
    "\n"
   ]
  },
  {
   "cell_type": "markdown",
   "metadata": {},
   "source": [
    "* **Entendimento dos dados**"
   ]
  },
  {
   "cell_type": "code",
   "execution_count": null,
   "metadata": {},
   "outputs": [],
   "source": []
  },
  {
   "cell_type": "markdown",
   "metadata": {},
   "source": [
    "# Referências"
   ]
  },
  {
   "cell_type": "markdown",
   "metadata": {},
   "source": [
    "* https://pandas.pydata.org/pandas-docs/stable/user_guide/visualization.html"
   ]
  }
 ],
 "metadata": {
  "kernelspec": {
   "display_name": "Python 3",
   "language": "python",
   "name": "python3"
  },
  "language_info": {
   "codemirror_mode": {
    "name": "ipython",
    "version": 3
   },
   "file_extension": ".py",
   "mimetype": "text/x-python",
   "name": "python",
   "nbconvert_exporter": "python",
   "pygments_lexer": "ipython3",
   "version": "3.7.6"
  },
  "toc": {
   "base_numbering": 1,
   "nav_menu": {},
   "number_sections": true,
   "sideBar": true,
   "skip_h1_title": false,
   "title_cell": "Table of Contents",
   "title_sidebar": "Contents",
   "toc_cell": true,
   "toc_position": {},
   "toc_section_display": true,
   "toc_window_display": true
  }
 },
 "nbformat": 4,
 "nbformat_minor": 4
}
