{
 "cells": [
  {
   "cell_type": "markdown",
   "metadata": {},
   "source": [
    "<img src='figures/logo.png'>"
   ]
  },
  {
   "cell_type": "markdown",
   "metadata": {
    "toc": true
   },
   "source": [
    "<h1>Table of Contents<span class=\"tocSkip\"></span></h1>\n",
    "<div class=\"toc\"><ul class=\"toc-item\"><li><span><a href=\"#O-que-esperar-daqui-pra-frente?\" data-toc-modified-id=\"O-que-esperar-daqui-pra-frente?-1\"><span class=\"toc-item-num\">1&nbsp;&nbsp;</span>O que esperar daqui pra frente?</a></span><ul class=\"toc-item\"><li><span><a href=\"#Tarefinha!\" data-toc-modified-id=\"Tarefinha!-1.1\"><span class=\"toc-item-num\">1.1&nbsp;&nbsp;</span>Tarefinha!</a></span></li><li><span><a href=\"#Os-algoritmos-de-AM!\" data-toc-modified-id=\"Os-algoritmos-de-AM!-1.2\"><span class=\"toc-item-num\">1.2&nbsp;&nbsp;</span>Os algoritmos de AM!</a></span></li><li><span><a href=\"#Referências\" data-toc-modified-id=\"Referências-1.3\"><span class=\"toc-item-num\">1.3&nbsp;&nbsp;</span>Referências</a></span></li></ul></li></ul></div>"
   ]
  },
  {
   "cell_type": "markdown",
   "metadata": {},
   "source": [
    "# O que esperar daqui pra frente? "
   ]
  },
  {
   "cell_type": "markdown",
   "metadata": {},
   "source": [
    "Em um projeto de ciência de dados, nós precisamos pensar em várias etapas, uma delas é o entendimento do negócio. Outra é sobre o entendimento dos dados e a preparação dos dados para a etapa seguinte, que é a construção de um modelo de predição. \n"
   ]
  },
  {
   "cell_type": "markdown",
   "metadata": {},
   "source": [
    "Mas porque várias etapas? O que mais está envolvido quando falamos de ciência de dados? Pensei que era só fazer um algoritmo de predição e tava tudo certo..."
   ]
  },
  {
   "cell_type": "markdown",
   "metadata": {},
   "source": [
    "\n",
    "\n",
    "<img src='figures/ds_timeline.jpg'>\n",
    "\n",
    "https://www.slideshare.net/slideshow/embed_code/36866068"
   ]
  },
  {
   "cell_type": "markdown",
   "metadata": {},
   "source": [
    "* Na Aula 02 nós vimos que existem diferentes tipos de dados e para cada um deles uma abordagem diferente. Também entendemos que precisamos de uma metodologia para entender o que está acontecendo e construir um modelo. **Mas o que é um modelo de aprendizado de máquina?**"
   ]
  },
  {
   "cell_type": "markdown",
   "metadata": {},
   "source": [
    "<img src='figures/machinelearning3.png'>\n",
    "\n",
    "https://petmecanica.ufes.br/machine-learning-0"
   ]
  },
  {
   "cell_type": "markdown",
   "metadata": {},
   "source": [
    "Um modelo de AM aprende um conceito através da experiência. Esse conceito veio justamente do aprendizado humano. Olhem só esse exemplo (extraído de Machine Learning A Practical Approach on the Statistical Learning Theory):\n",
    "\n",
    "Considere uma criança olhando para uma cadeira pela primeira vez. Como ela pode associar o objeto fisico ao conceito de cadeira? Alguém precisará dizer a ela que aquele objeto é uma cadeira, mas ela precisa encontrar uma maneira de extrair características relevantes para caracterizar aquilo como uma cadeira. Por exemplo: a cor é uma variavel importante para definir o conceito de cadeira? O que voces acham?  Alguém pode dizer que o formato é importante, e de fato é. Nesse exemplo, nós vimos que seres humanos dependem de caracteristicas (atributos ou variáveis) para construir algum tipo de função de classificação, que mapeia um objeto x em um label y. E assim, constantemente estamos extraindo característics relevantes e concluindo algo em diferentes tarefas. Essas características são as minhas variáveis de entrada e a nossa conclusão é a nossa variável saída. Vamos pensar no seguinte exemplo, uma pessoa irá sair para jantar, chegando a um determinado restaurante ela pode optar por ficar lá ou sair. Uma série de condições (variáveis de entrada) a ajudaram a tomar essa decisão, que será a nossa variável de saida. \n",
    "\n",
    "Agora, vamos utilizar um algoritmo para predizer (classificar) se um determinado individuo ira ou não jantar no restaurante X. Um algoritmo de ML irá aprender através de exemplos, que normalmente chamamos de conjunto de treinamento, irá usar extrair um padrão desses dados e então nos dizer a classe (output) desse individo.\n"
   ]
  },
  {
   "cell_type": "markdown",
   "metadata": {},
   "source": [
    "**Resumindo**\n",
    "\n",
    "* Classe: rótulo de um objeto ou evento\n",
    "* Classificar: uso de um algoritmo de aprendizado de máquina para encontrar a classe de um evento ou objeto\n",
    "* Vetor de Características: as informações de um determinado evento ou objeto que utilizamos para classificá-lo\n",
    "* Conjunto de treinamento: vários exemplos de um ojeto ou evento"
   ]
  },
  {
   "cell_type": "markdown",
   "metadata": {},
   "source": [
    "## Tarefinha!"
   ]
  },
  {
   "cell_type": "markdown",
   "metadata": {},
   "source": [
    "Pense em um exemplo de tarefa de classificação. Deixe claro quais são as classes e as caracteríticas que podem ser usadas."
   ]
  },
  {
   "cell_type": "markdown",
   "metadata": {},
   "source": [
    "## Os algoritmos de AM!"
   ]
  },
  {
   "cell_type": "markdown",
   "metadata": {},
   "source": [
    "O termo aprendizado de máquina surgiu em 1959, mas as técnicas já vinham sendo estudadas. A regressão logistica surgiu em aproximadamente 1805, depois em 1943 foi criado o perceptron e dai em diante vários outros algoritmos foram surgindo. Logo já existem diversas abordagens para lidarmos com diferentes tipos de dados e situações."
   ]
  },
  {
   "cell_type": "markdown",
   "metadata": {},
   "source": [
    "<img src='figures/tipos_aprendizado.png'>"
   ]
  },
  {
   "cell_type": "markdown",
   "metadata": {},
   "source": [
    "<img src='figures/ml_map.png'>"
   ]
  },
  {
   "cell_type": "markdown",
   "metadata": {},
   "source": [
    "E como eu uso? \n",
    "\n",
    "https://scikit-learn.org/stable/\n",
    "\n",
    "\n",
    "\n",
    "\n"
   ]
  },
  {
   "cell_type": "markdown",
   "metadata": {},
   "source": [
    "<img src='figures/sklearn11.png'>"
   ]
  },
  {
   "cell_type": "markdown",
   "metadata": {},
   "source": [
    "\n",
    "<img src='figures/sklearn2.png'>"
   ]
  },
  {
   "cell_type": "markdown",
   "metadata": {},
   "source": [
    "**DICA**: como você pode perceber, são muitos algoritmos e muitas técnicas, mas não se desespere! Veja a dica do Eleandro para se dar bem!"
   ]
  },
  {
   "cell_type": "code",
   "execution_count": null,
   "metadata": {},
   "outputs": [],
   "source": []
  },
  {
   "cell_type": "markdown",
   "metadata": {},
   "source": [
    "Vamos ver como utilizar o python para realizar uma predição?"
   ]
  },
  {
   "cell_type": "markdown",
   "metadata": {},
   "source": [
    "## Referências"
   ]
  }
 ],
 "metadata": {
  "kernelspec": {
   "display_name": "Python 3",
   "language": "python",
   "name": "python3"
  },
  "language_info": {
   "codemirror_mode": {
    "name": "ipython",
    "version": 3
   },
   "file_extension": ".py",
   "mimetype": "text/x-python",
   "name": "python",
   "nbconvert_exporter": "python",
   "pygments_lexer": "ipython3",
   "version": "3.7.6"
  },
  "toc": {
   "base_numbering": 1,
   "nav_menu": {},
   "number_sections": true,
   "sideBar": true,
   "skip_h1_title": false,
   "title_cell": "Table of Contents",
   "title_sidebar": "Contents",
   "toc_cell": true,
   "toc_position": {},
   "toc_section_display": true,
   "toc_window_display": false
  }
 },
 "nbformat": 4,
 "nbformat_minor": 4
}
