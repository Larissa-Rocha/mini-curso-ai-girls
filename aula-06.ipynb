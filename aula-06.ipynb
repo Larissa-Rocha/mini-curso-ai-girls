{
 "cells": [
  {
   "cell_type": "markdown",
   "metadata": {},
   "source": [
    "<img src='figures/logo.png'>"
   ]
  },
  {
   "cell_type": "markdown",
   "metadata": {
    "toc": true
   },
   "source": [
    "<h1>Table of Contents<span class=\"tocSkip\"></span></h1>\n",
    "<div class=\"toc\"><ul class=\"toc-item\"><li><span><a href=\"#É-hora-de-construir-um-modelo!\" data-toc-modified-id=\"É-hora-de-construir-um-modelo!-1\"><span class=\"toc-item-num\">1&nbsp;&nbsp;</span>É hora de construir um modelo!</a></span><ul class=\"toc-item\"><li><span><a href=\"#Avaliação\" data-toc-modified-id=\"Avaliação-1.1\"><span class=\"toc-item-num\">1.1&nbsp;&nbsp;</span>Avaliação</a></span><ul class=\"toc-item\"><li><span><a href=\"#O-que-aconteceu-aqui?-Acertamos-tudo-:o\" data-toc-modified-id=\"O-que-aconteceu-aqui?-Acertamos-tudo-:o-1.1.1\"><span class=\"toc-item-num\">1.1.1&nbsp;&nbsp;</span>O que aconteceu aqui? Acertamos tudo :o</a></span></li></ul></li><li><span><a href=\"#Controlando-os-parametros-da-árvore\" data-toc-modified-id=\"Controlando-os-parametros-da-árvore-1.2\"><span class=\"toc-item-num\">1.2&nbsp;&nbsp;</span>Controlando os parametros da árvore</a></span></li></ul></li><li><span><a href=\"#Treino-e-Teste\" data-toc-modified-id=\"Treino-e-Teste-2\"><span class=\"toc-item-num\">2&nbsp;&nbsp;</span>Treino e Teste</a></span></li><li><span><a href=\"#Importância-das-variáveis\" data-toc-modified-id=\"Importância-das-variáveis-3\"><span class=\"toc-item-num\">3&nbsp;&nbsp;</span>Importância das variáveis</a></span></li><li><span><a href=\"#Análise-dos-Resultados\" data-toc-modified-id=\"Análise-dos-Resultados-4\"><span class=\"toc-item-num\">4&nbsp;&nbsp;</span>Análise dos Resultados</a></span></li></ul></div>"
   ]
  },
  {
   "cell_type": "markdown",
   "metadata": {},
   "source": [
    "# É hora de construir um modelo!"
   ]
  },
  {
   "cell_type": "code",
   "execution_count": 2,
   "metadata": {},
   "outputs": [
    {
     "name": "stdout",
     "output_type": "stream",
     "text": [
      "Collecting graphviz\n",
      "  Downloading graphviz-0.16-py2.py3-none-any.whl (19 kB)\n",
      "Installing collected packages: graphviz\n",
      "Successfully installed graphviz-0.16\n",
      "\u001b[33mWARNING: You are using pip version 20.2.3; however, version 21.0.1 is available.\n",
      "You should consider upgrading via the '/Users/lauradamacenodealmeida/opt/anaconda3/bin/python -m pip install --upgrade pip' command.\u001b[0m\n"
     ]
    }
   ],
   "source": [
    "!pip install graphviz"
   ]
  },
  {
   "cell_type": "code",
   "execution_count": 4,
   "metadata": {},
   "outputs": [],
   "source": [
    "import pandas as pd\n",
    "import numpy as np\n",
    "\n",
    "from sklearn.datasets import load_diabetes\n",
    "from sklearn.model_selection import cross_val_score\n",
    "from sklearn.tree import DecisionTreeRegressor\n",
    "\n",
    "import matplotlib.pyplot as plt\n",
    "\n",
    "from sklearn.model_selection import train_test_split\n",
    "\n",
    "from graphviz import render"
   ]
  },
  {
   "cell_type": "markdown",
   "metadata": {},
   "source": [
    "Vamos carregar aqui aqueles dados que nós contruimos na etapa de Preparação dos dados:"
   ]
  },
  {
   "cell_type": "code",
   "execution_count": 6,
   "metadata": {},
   "outputs": [
    {
     "data": {
      "text/plain": [
       "(20185, 10)"
      ]
     },
     "execution_count": 6,
     "metadata": {},
     "output_type": "execute_result"
    }
   ],
   "source": [
    "df_modelo = pd.read_csv('df_modelo.csv')\n",
    "df_modelo.shape\n",
    "                    "
   ]
  },
  {
   "cell_type": "code",
   "execution_count": 7,
   "metadata": {
    "scrolled": true
   },
   "outputs": [
    {
     "data": {
      "text/html": [
       "<div>\n",
       "<style scoped>\n",
       "    .dataframe tbody tr th:only-of-type {\n",
       "        vertical-align: middle;\n",
       "    }\n",
       "\n",
       "    .dataframe tbody tr th {\n",
       "        vertical-align: top;\n",
       "    }\n",
       "\n",
       "    .dataframe thead th {\n",
       "        text-align: right;\n",
       "    }\n",
       "</style>\n",
       "<table border=\"1\" class=\"dataframe\">\n",
       "  <thead>\n",
       "    <tr style=\"text-align: right;\">\n",
       "      <th></th>\n",
       "      <th>Unnamed: 0</th>\n",
       "      <th>What is your gender? - Selected Choice</th>\n",
       "      <th>In which country do you currently reside?</th>\n",
       "      <th>What is the highest level of formal education that you have attained or plan to attain within the next 2 years?</th>\n",
       "      <th>Which best describes your undergraduate major? - Selected Choice</th>\n",
       "      <th>Select the title most similar to your current role (or most recent title if retired): - Selected Choice</th>\n",
       "      <th>In what industry is your current employer/contract (or your most recent employer if retired)? - Selected Choice</th>\n",
       "      <th>What is your age (# years)?</th>\n",
       "      <th>How many years of experience do you have in your current role?</th>\n",
       "      <th>What is your current yearly compensation (approximate $USD)?</th>\n",
       "    </tr>\n",
       "  </thead>\n",
       "  <tbody>\n",
       "    <tr>\n",
       "      <th>0</th>\n",
       "      <td>2</td>\n",
       "      <td>1</td>\n",
       "      <td>8</td>\n",
       "      <td>0</td>\n",
       "      <td>2</td>\n",
       "      <td>12</td>\n",
       "      <td>9</td>\n",
       "      <td>34</td>\n",
       "      <td>10</td>\n",
       "      <td>20</td>\n",
       "    </tr>\n",
       "    <tr>\n",
       "      <th>1</th>\n",
       "      <td>3</td>\n",
       "      <td>0</td>\n",
       "      <td>11</td>\n",
       "      <td>3</td>\n",
       "      <td>1</td>\n",
       "      <td>7</td>\n",
       "      <td>7</td>\n",
       "      <td>34</td>\n",
       "      <td>1</td>\n",
       "      <td>10</td>\n",
       "    </tr>\n",
       "    <tr>\n",
       "      <th>2</th>\n",
       "      <td>5</td>\n",
       "      <td>1</td>\n",
       "      <td>5</td>\n",
       "      <td>3</td>\n",
       "      <td>8</td>\n",
       "      <td>4</td>\n",
       "      <td>7</td>\n",
       "      <td>24</td>\n",
       "      <td>1</td>\n",
       "      <td>10</td>\n",
       "    </tr>\n",
       "    <tr>\n",
       "      <th>3</th>\n",
       "      <td>6</td>\n",
       "      <td>1</td>\n",
       "      <td>8</td>\n",
       "      <td>0</td>\n",
       "      <td>11</td>\n",
       "      <td>7</td>\n",
       "      <td>3</td>\n",
       "      <td>29</td>\n",
       "      <td>1</td>\n",
       "      <td>0</td>\n",
       "    </tr>\n",
       "    <tr>\n",
       "      <th>4</th>\n",
       "      <td>7</td>\n",
       "      <td>1</td>\n",
       "      <td>8</td>\n",
       "      <td>1</td>\n",
       "      <td>7</td>\n",
       "      <td>12</td>\n",
       "      <td>0</td>\n",
       "      <td>39</td>\n",
       "      <td>15</td>\n",
       "      <td>20</td>\n",
       "    </tr>\n",
       "  </tbody>\n",
       "</table>\n",
       "</div>"
      ],
      "text/plain": [
       "   Unnamed: 0  What is your gender? - Selected Choice  \\\n",
       "0           2                                       1   \n",
       "1           3                                       0   \n",
       "2           5                                       1   \n",
       "3           6                                       1   \n",
       "4           7                                       1   \n",
       "\n",
       "   In which country do you currently reside?  \\\n",
       "0                                          8   \n",
       "1                                         11   \n",
       "2                                          5   \n",
       "3                                          8   \n",
       "4                                          8   \n",
       "\n",
       "   What is the highest level of formal education that you have attained or plan to attain within the next 2 years?  \\\n",
       "0                                                  0                                                                 \n",
       "1                                                  3                                                                 \n",
       "2                                                  3                                                                 \n",
       "3                                                  0                                                                 \n",
       "4                                                  1                                                                 \n",
       "\n",
       "   Which best describes your undergraduate major? - Selected Choice  \\\n",
       "0                                                  2                  \n",
       "1                                                  1                  \n",
       "2                                                  8                  \n",
       "3                                                 11                  \n",
       "4                                                  7                  \n",
       "\n",
       "   Select the title most similar to your current role (or most recent title if retired): - Selected Choice  \\\n",
       "0                                                 12                                                         \n",
       "1                                                  7                                                         \n",
       "2                                                  4                                                         \n",
       "3                                                  7                                                         \n",
       "4                                                 12                                                         \n",
       "\n",
       "   In what industry is your current employer/contract (or your most recent employer if retired)? - Selected Choice  \\\n",
       "0                                                  9                                                                 \n",
       "1                                                  7                                                                 \n",
       "2                                                  7                                                                 \n",
       "3                                                  3                                                                 \n",
       "4                                                  0                                                                 \n",
       "\n",
       "   What is your age (# years)?  \\\n",
       "0                           34   \n",
       "1                           34   \n",
       "2                           24   \n",
       "3                           29   \n",
       "4                           39   \n",
       "\n",
       "   How many years of experience do you have in your current role?  \\\n",
       "0                                                 10                \n",
       "1                                                  1                \n",
       "2                                                  1                \n",
       "3                                                  1                \n",
       "4                                                 15                \n",
       "\n",
       "   What is your current yearly compensation (approximate $USD)?  \n",
       "0                                                 20             \n",
       "1                                                 10             \n",
       "2                                                 10             \n",
       "3                                                  0             \n",
       "4                                                 20             "
      ]
     },
     "execution_count": 7,
     "metadata": {},
     "output_type": "execute_result"
    }
   ],
   "source": [
    "df_modelo.head()"
   ]
  },
  {
   "cell_type": "code",
   "execution_count": 26,
   "metadata": {},
   "outputs": [],
   "source": [
    "df_modelo = df_modelo.drop('Unnamed: 0', axis=1)"
   ]
  },
  {
   "cell_type": "markdown",
   "metadata": {},
   "source": [
    "O dataframe X, contém apenas as variáveis que descrevem os individuos e o y apenas a variável resposta, nesse caso, o valor que eles ganham anualmente"
   ]
  },
  {
   "cell_type": "code",
   "execution_count": 27,
   "metadata": {
    "scrolled": true
   },
   "outputs": [],
   "source": [
    "X = df_modelo.drop('What is your current yearly compensation (approximate $USD)?', axis=1)\n",
    "y = df_modelo['What is your current yearly compensation (approximate $USD)?']"
   ]
  },
  {
   "cell_type": "code",
   "execution_count": 28,
   "metadata": {
    "scrolled": true
   },
   "outputs": [
    {
     "name": "stdout",
     "output_type": "stream",
     "text": [
      "(20185, 8)\n",
      "(20185,)\n"
     ]
    }
   ],
   "source": [
    "print(X.shape)\n",
    "print(y.shape)"
   ]
  },
  {
   "cell_type": "code",
   "execution_count": 29,
   "metadata": {},
   "outputs": [
    {
     "data": {
      "text/html": [
       "<div>\n",
       "<style scoped>\n",
       "    .dataframe tbody tr th:only-of-type {\n",
       "        vertical-align: middle;\n",
       "    }\n",
       "\n",
       "    .dataframe tbody tr th {\n",
       "        vertical-align: top;\n",
       "    }\n",
       "\n",
       "    .dataframe thead th {\n",
       "        text-align: right;\n",
       "    }\n",
       "</style>\n",
       "<table border=\"1\" class=\"dataframe\">\n",
       "  <thead>\n",
       "    <tr style=\"text-align: right;\">\n",
       "      <th></th>\n",
       "      <th>What is your gender? - Selected Choice</th>\n",
       "      <th>In which country do you currently reside?</th>\n",
       "      <th>What is the highest level of formal education that you have attained or plan to attain within the next 2 years?</th>\n",
       "      <th>Which best describes your undergraduate major? - Selected Choice</th>\n",
       "      <th>Select the title most similar to your current role (or most recent title if retired): - Selected Choice</th>\n",
       "      <th>In what industry is your current employer/contract (or your most recent employer if retired)? - Selected Choice</th>\n",
       "      <th>What is your age (# years)?</th>\n",
       "      <th>How many years of experience do you have in your current role?</th>\n",
       "    </tr>\n",
       "  </thead>\n",
       "  <tbody>\n",
       "    <tr>\n",
       "      <th>0</th>\n",
       "      <td>1</td>\n",
       "      <td>8</td>\n",
       "      <td>0</td>\n",
       "      <td>2</td>\n",
       "      <td>12</td>\n",
       "      <td>9</td>\n",
       "      <td>34</td>\n",
       "      <td>10</td>\n",
       "    </tr>\n",
       "    <tr>\n",
       "      <th>1</th>\n",
       "      <td>0</td>\n",
       "      <td>11</td>\n",
       "      <td>3</td>\n",
       "      <td>1</td>\n",
       "      <td>7</td>\n",
       "      <td>7</td>\n",
       "      <td>34</td>\n",
       "      <td>1</td>\n",
       "    </tr>\n",
       "    <tr>\n",
       "      <th>2</th>\n",
       "      <td>1</td>\n",
       "      <td>5</td>\n",
       "      <td>3</td>\n",
       "      <td>8</td>\n",
       "      <td>4</td>\n",
       "      <td>7</td>\n",
       "      <td>24</td>\n",
       "      <td>1</td>\n",
       "    </tr>\n",
       "    <tr>\n",
       "      <th>3</th>\n",
       "      <td>1</td>\n",
       "      <td>8</td>\n",
       "      <td>0</td>\n",
       "      <td>11</td>\n",
       "      <td>7</td>\n",
       "      <td>3</td>\n",
       "      <td>29</td>\n",
       "      <td>1</td>\n",
       "    </tr>\n",
       "    <tr>\n",
       "      <th>4</th>\n",
       "      <td>1</td>\n",
       "      <td>8</td>\n",
       "      <td>1</td>\n",
       "      <td>7</td>\n",
       "      <td>12</td>\n",
       "      <td>0</td>\n",
       "      <td>39</td>\n",
       "      <td>15</td>\n",
       "    </tr>\n",
       "    <tr>\n",
       "      <th>...</th>\n",
       "      <td>...</td>\n",
       "      <td>...</td>\n",
       "      <td>...</td>\n",
       "      <td>...</td>\n",
       "      <td>...</td>\n",
       "      <td>...</td>\n",
       "      <td>...</td>\n",
       "      <td>...</td>\n",
       "    </tr>\n",
       "    <tr>\n",
       "      <th>20180</th>\n",
       "      <td>1</td>\n",
       "      <td>4</td>\n",
       "      <td>3</td>\n",
       "      <td>1</td>\n",
       "      <td>2</td>\n",
       "      <td>18</td>\n",
       "      <td>44</td>\n",
       "      <td>15</td>\n",
       "    </tr>\n",
       "    <tr>\n",
       "      <th>20181</th>\n",
       "      <td>0</td>\n",
       "      <td>5</td>\n",
       "      <td>3</td>\n",
       "      <td>1</td>\n",
       "      <td>4</td>\n",
       "      <td>7</td>\n",
       "      <td>21</td>\n",
       "      <td>2</td>\n",
       "    </tr>\n",
       "    <tr>\n",
       "      <th>20182</th>\n",
       "      <td>1</td>\n",
       "      <td>8</td>\n",
       "      <td>1</td>\n",
       "      <td>1</td>\n",
       "      <td>15</td>\n",
       "      <td>0</td>\n",
       "      <td>34</td>\n",
       "      <td>10</td>\n",
       "    </tr>\n",
       "    <tr>\n",
       "      <th>20183</th>\n",
       "      <td>1</td>\n",
       "      <td>3</td>\n",
       "      <td>1</td>\n",
       "      <td>1</td>\n",
       "      <td>1</td>\n",
       "      <td>3</td>\n",
       "      <td>49</td>\n",
       "      <td>10</td>\n",
       "    </tr>\n",
       "    <tr>\n",
       "      <th>20184</th>\n",
       "      <td>1</td>\n",
       "      <td>8</td>\n",
       "      <td>3</td>\n",
       "      <td>1</td>\n",
       "      <td>18</td>\n",
       "      <td>3</td>\n",
       "      <td>24</td>\n",
       "      <td>1</td>\n",
       "    </tr>\n",
       "  </tbody>\n",
       "</table>\n",
       "<p>20185 rows × 8 columns</p>\n",
       "</div>"
      ],
      "text/plain": [
       "       What is your gender? - Selected Choice  \\\n",
       "0                                           1   \n",
       "1                                           0   \n",
       "2                                           1   \n",
       "3                                           1   \n",
       "4                                           1   \n",
       "...                                       ...   \n",
       "20180                                       1   \n",
       "20181                                       0   \n",
       "20182                                       1   \n",
       "20183                                       1   \n",
       "20184                                       1   \n",
       "\n",
       "       In which country do you currently reside?  \\\n",
       "0                                              8   \n",
       "1                                             11   \n",
       "2                                              5   \n",
       "3                                              8   \n",
       "4                                              8   \n",
       "...                                          ...   \n",
       "20180                                          4   \n",
       "20181                                          5   \n",
       "20182                                          8   \n",
       "20183                                          3   \n",
       "20184                                          8   \n",
       "\n",
       "       What is the highest level of formal education that you have attained or plan to attain within the next 2 years?  \\\n",
       "0                                                      0                                                                 \n",
       "1                                                      3                                                                 \n",
       "2                                                      3                                                                 \n",
       "3                                                      0                                                                 \n",
       "4                                                      1                                                                 \n",
       "...                                                  ...                                                                 \n",
       "20180                                                  3                                                                 \n",
       "20181                                                  3                                                                 \n",
       "20182                                                  1                                                                 \n",
       "20183                                                  1                                                                 \n",
       "20184                                                  3                                                                 \n",
       "\n",
       "       Which best describes your undergraduate major? - Selected Choice  \\\n",
       "0                                                      2                  \n",
       "1                                                      1                  \n",
       "2                                                      8                  \n",
       "3                                                     11                  \n",
       "4                                                      7                  \n",
       "...                                                  ...                  \n",
       "20180                                                  1                  \n",
       "20181                                                  1                  \n",
       "20182                                                  1                  \n",
       "20183                                                  1                  \n",
       "20184                                                  1                  \n",
       "\n",
       "       Select the title most similar to your current role (or most recent title if retired): - Selected Choice  \\\n",
       "0                                                     12                                                         \n",
       "1                                                      7                                                         \n",
       "2                                                      4                                                         \n",
       "3                                                      7                                                         \n",
       "4                                                     12                                                         \n",
       "...                                                  ...                                                         \n",
       "20180                                                  2                                                         \n",
       "20181                                                  4                                                         \n",
       "20182                                                 15                                                         \n",
       "20183                                                  1                                                         \n",
       "20184                                                 18                                                         \n",
       "\n",
       "       In what industry is your current employer/contract (or your most recent employer if retired)? - Selected Choice  \\\n",
       "0                                                      9                                                                 \n",
       "1                                                      7                                                                 \n",
       "2                                                      7                                                                 \n",
       "3                                                      3                                                                 \n",
       "4                                                      0                                                                 \n",
       "...                                                  ...                                                                 \n",
       "20180                                                 18                                                                 \n",
       "20181                                                  7                                                                 \n",
       "20182                                                  0                                                                 \n",
       "20183                                                  3                                                                 \n",
       "20184                                                  3                                                                 \n",
       "\n",
       "       What is your age (# years)?  \\\n",
       "0                               34   \n",
       "1                               34   \n",
       "2                               24   \n",
       "3                               29   \n",
       "4                               39   \n",
       "...                            ...   \n",
       "20180                           44   \n",
       "20181                           21   \n",
       "20182                           34   \n",
       "20183                           49   \n",
       "20184                           24   \n",
       "\n",
       "       How many years of experience do you have in your current role?  \n",
       "0                                                     10               \n",
       "1                                                      1               \n",
       "2                                                      1               \n",
       "3                                                      1               \n",
       "4                                                     15               \n",
       "...                                                  ...               \n",
       "20180                                                 15               \n",
       "20181                                                  2               \n",
       "20182                                                 10               \n",
       "20183                                                 10               \n",
       "20184                                                  1               \n",
       "\n",
       "[20185 rows x 8 columns]"
      ]
     },
     "execution_count": 29,
     "metadata": {},
     "output_type": "execute_result"
    }
   ],
   "source": [
    "X"
   ]
  },
  {
   "cell_type": "markdown",
   "metadata": {},
   "source": [
    "Vamos usar uma arvore de decisão aqui! \n",
    "\n",
    "Esse tipo de algoritmo é muito interessante, porque é fácil entender porque ele classificou uma amostra em um determinado valor. Isso porque ele funciona como se fosse feitas uma series de perguntas e então chega-se a uma conclusão.É uma estratégia conhecida como dividir para conquistar: um problema complexo é decomposto em sub-problemas mais simples e recursivamente esta técnica é aplicada a cada sub-problema \n",
    "\n",
    "Com esse tipo de algoritmo normalmente não precisamos escalar os dados, ele consegue lidar com dados que não são separados linearmente e a importância dos atributos é revelada e fácil de explicar"
   ]
  },
  {
   "cell_type": "code",
   "execution_count": 11,
   "metadata": {},
   "outputs": [
    {
     "data": {
      "text/plain": [
       "0         20\n",
       "1         10\n",
       "2         10\n",
       "3          0\n",
       "4         20\n",
       "        ... \n",
       "20180      0\n",
       "20181      0\n",
       "20182     20\n",
       "20183    300\n",
       "20184     20\n",
       "Name: What is your current yearly compensation (approximate $USD)?, Length: 20185, dtype: int64"
      ]
     },
     "execution_count": 11,
     "metadata": {},
     "output_type": "execute_result"
    }
   ],
   "source": [
    "y"
   ]
  },
  {
   "cell_type": "code",
   "execution_count": 12,
   "metadata": {},
   "outputs": [
    {
     "data": {
      "text/plain": [
       "DecisionTreeRegressor()"
      ]
     },
     "execution_count": 12,
     "metadata": {},
     "output_type": "execute_result"
    }
   ],
   "source": [
    "# Fit regression model\n",
    "regr_1 = DecisionTreeRegressor()\n",
    "regr_1.fit(X, y)\n",
    "\n"
   ]
  },
  {
   "cell_type": "code",
   "execution_count": 13,
   "metadata": {},
   "outputs": [],
   "source": [
    "# Predict\n",
    "y_pred = regr_1.predict(X)"
   ]
  },
  {
   "cell_type": "code",
   "execution_count": 14,
   "metadata": {},
   "outputs": [
    {
     "data": {
      "text/plain": [
       "array([ 20.,  10.,  10., ...,  20., 300.,  20.])"
      ]
     },
     "execution_count": 14,
     "metadata": {},
     "output_type": "execute_result"
    }
   ],
   "source": [
    "y_pred"
   ]
  },
  {
   "cell_type": "markdown",
   "metadata": {},
   "source": [
    "## Avaliação"
   ]
  },
  {
   "cell_type": "markdown",
   "metadata": {},
   "source": [
    "<img src='figures/residuals-represent-error-jpg_1.jpg'>\n"
   ]
  },
  {
   "cell_type": "code",
   "execution_count": 15,
   "metadata": {},
   "outputs": [
    {
     "name": "stdout",
     "output_type": "stream",
     "text": [
      "1.0\n"
     ]
    }
   ],
   "source": [
    "from sklearn.metrics import r2_score # quanto mais proximo de 1 melhor o modelo\n",
    "print(r2_score(y, regr_1.predict(X)))"
   ]
  },
  {
   "cell_type": "code",
   "execution_count": 16,
   "metadata": {
    "scrolled": false
   },
   "outputs": [
    {
     "data": {
      "text/plain": [
       "0.0"
      ]
     },
     "execution_count": 16,
     "metadata": {},
     "output_type": "execute_result"
    }
   ],
   "source": [
    "from sklearn.metrics import mean_absolute_error  # desvio médio entre observado e predito.\n",
    "mean_absolute_error(y, y_pred)"
   ]
  },
  {
   "cell_type": "markdown",
   "metadata": {},
   "source": [
    "### O que aconteceu aqui? Acertamos tudo :o\n",
    "\n",
    "<img src='figures/overfitting.png'>"
   ]
  },
  {
   "cell_type": "markdown",
   "metadata": {},
   "source": [
    "## Controlando os parametros da árvore"
   ]
  },
  {
   "cell_type": "markdown",
   "metadata": {},
   "source": [
    "A árvore estende a sua profundidade até o ponto de classificar perfeitamente os elementos do conjunto de treinamento. Para evitar isso, nós podemos evitar que a árvore cresça de maneira a superajustar os dados: "
   ]
  },
  {
   "cell_type": "code",
   "execution_count": 17,
   "metadata": {},
   "outputs": [],
   "source": [
    "# Fit regression model\n",
    "regr_1 = DecisionTreeRegressor(max_depth=4)\n",
    "regr_1.fit(X, y)\n",
    "\n",
    "# Predict\n",
    "y_pred = regr_1.predict(X)"
   ]
  },
  {
   "cell_type": "code",
   "execution_count": 18,
   "metadata": {},
   "outputs": [
    {
     "data": {
      "text/plain": [
       "28.60876829421268"
      ]
     },
     "execution_count": 18,
     "metadata": {},
     "output_type": "execute_result"
    }
   ],
   "source": [
    "mean_absolute_error(y, y_pred)"
   ]
  },
  {
   "cell_type": "markdown",
   "metadata": {},
   "source": [
    "# Treino e Teste"
   ]
  },
  {
   "cell_type": "markdown",
   "metadata": {},
   "source": [
    "Outra abordagem muito importante para entendermos se está acontecendo um superajuste, é a divisão dos dados em conjuntos de treino e teste: "
   ]
  },
  {
   "cell_type": "markdown",
   "metadata": {},
   "source": [
    "<img src='figures/crossvalidation.png'>"
   ]
  },
  {
   "cell_type": "code",
   "execution_count": 30,
   "metadata": {},
   "outputs": [],
   "source": [
    "X_train, X_test, y_train, y_test = train_test_split(\n",
    "    X, y, test_size=0.20, random_state=42)"
   ]
  },
  {
   "cell_type": "code",
   "execution_count": 31,
   "metadata": {},
   "outputs": [
    {
     "data": {
      "text/plain": [
       "(4037, 8)"
      ]
     },
     "execution_count": 31,
     "metadata": {},
     "output_type": "execute_result"
    }
   ],
   "source": [
    "X_test.shape"
   ]
  },
  {
   "cell_type": "code",
   "execution_count": 32,
   "metadata": {},
   "outputs": [],
   "source": [
    "# Fit regression model\n",
    "regr_1 = DecisionTreeRegressor(max_depth=4)\n",
    "regr_1.fit(X_train, y_train)\n",
    "\n",
    "# Predict\n",
    "y_pred = regr_1.predict(X_test)"
   ]
  },
  {
   "cell_type": "code",
   "execution_count": 33,
   "metadata": {},
   "outputs": [
    {
     "data": {
      "text/plain": [
       "28.65735690272959"
      ]
     },
     "execution_count": 33,
     "metadata": {},
     "output_type": "execute_result"
    }
   ],
   "source": [
    "mean_absolute_error(y_test, y_pred)"
   ]
  },
  {
   "cell_type": "code",
   "execution_count": 23,
   "metadata": {},
   "outputs": [
    {
     "ename": "ExecutableNotFound",
     "evalue": "failed to execute ['dot', '-Kdot', '-Tpng', '-O', 'tree.dot'], make sure the Graphviz executables are on your systems' PATH",
     "output_type": "error",
     "traceback": [
      "\u001b[0;31m---------------------------------------------------------------------------\u001b[0m",
      "\u001b[0;31mFileNotFoundError\u001b[0m                         Traceback (most recent call last)",
      "\u001b[0;32m~/opt/anaconda3/lib/python3.7/site-packages/graphviz/backend.py\u001b[0m in \u001b[0;36mrun\u001b[0;34m(cmd, input, capture_output, check, encoding, quiet, **kwargs)\u001b[0m\n\u001b[1;32m    163\u001b[0m     \u001b[0;32mtry\u001b[0m\u001b[0;34m:\u001b[0m\u001b[0;34m\u001b[0m\u001b[0;34m\u001b[0m\u001b[0m\n\u001b[0;32m--> 164\u001b[0;31m         \u001b[0mproc\u001b[0m \u001b[0;34m=\u001b[0m \u001b[0msubprocess\u001b[0m\u001b[0;34m.\u001b[0m\u001b[0mPopen\u001b[0m\u001b[0;34m(\u001b[0m\u001b[0mcmd\u001b[0m\u001b[0;34m,\u001b[0m \u001b[0mstartupinfo\u001b[0m\u001b[0;34m=\u001b[0m\u001b[0mget_startupinfo\u001b[0m\u001b[0;34m(\u001b[0m\u001b[0;34m)\u001b[0m\u001b[0;34m,\u001b[0m \u001b[0;34m**\u001b[0m\u001b[0mkwargs\u001b[0m\u001b[0;34m)\u001b[0m\u001b[0;34m\u001b[0m\u001b[0;34m\u001b[0m\u001b[0m\n\u001b[0m\u001b[1;32m    165\u001b[0m     \u001b[0;32mexcept\u001b[0m \u001b[0mOSError\u001b[0m \u001b[0;32mas\u001b[0m \u001b[0me\u001b[0m\u001b[0;34m:\u001b[0m\u001b[0;34m\u001b[0m\u001b[0;34m\u001b[0m\u001b[0m\n",
      "\u001b[0;32m~/opt/anaconda3/lib/python3.7/subprocess.py\u001b[0m in \u001b[0;36m__init__\u001b[0;34m(self, args, bufsize, executable, stdin, stdout, stderr, preexec_fn, close_fds, shell, cwd, env, universal_newlines, startupinfo, creationflags, restore_signals, start_new_session, pass_fds, encoding, errors, text)\u001b[0m\n\u001b[1;32m    799\u001b[0m                                 \u001b[0merrread\u001b[0m\u001b[0;34m,\u001b[0m \u001b[0merrwrite\u001b[0m\u001b[0;34m,\u001b[0m\u001b[0;34m\u001b[0m\u001b[0;34m\u001b[0m\u001b[0m\n\u001b[0;32m--> 800\u001b[0;31m                                 restore_signals, start_new_session)\n\u001b[0m\u001b[1;32m    801\u001b[0m         \u001b[0;32mexcept\u001b[0m\u001b[0;34m:\u001b[0m\u001b[0;34m\u001b[0m\u001b[0;34m\u001b[0m\u001b[0m\n",
      "\u001b[0;32m~/opt/anaconda3/lib/python3.7/subprocess.py\u001b[0m in \u001b[0;36m_execute_child\u001b[0;34m(self, args, executable, preexec_fn, close_fds, pass_fds, cwd, env, startupinfo, creationflags, shell, p2cread, p2cwrite, c2pread, c2pwrite, errread, errwrite, restore_signals, start_new_session)\u001b[0m\n\u001b[1;32m   1550\u001b[0m                             \u001b[0merr_msg\u001b[0m \u001b[0;34m+=\u001b[0m \u001b[0;34m': '\u001b[0m \u001b[0;34m+\u001b[0m \u001b[0mrepr\u001b[0m\u001b[0;34m(\u001b[0m\u001b[0merr_filename\u001b[0m\u001b[0;34m)\u001b[0m\u001b[0;34m\u001b[0m\u001b[0;34m\u001b[0m\u001b[0m\n\u001b[0;32m-> 1551\u001b[0;31m                     \u001b[0;32mraise\u001b[0m \u001b[0mchild_exception_type\u001b[0m\u001b[0;34m(\u001b[0m\u001b[0merrno_num\u001b[0m\u001b[0;34m,\u001b[0m \u001b[0merr_msg\u001b[0m\u001b[0;34m,\u001b[0m \u001b[0merr_filename\u001b[0m\u001b[0;34m)\u001b[0m\u001b[0;34m\u001b[0m\u001b[0;34m\u001b[0m\u001b[0m\n\u001b[0m\u001b[1;32m   1552\u001b[0m                 \u001b[0;32mraise\u001b[0m \u001b[0mchild_exception_type\u001b[0m\u001b[0;34m(\u001b[0m\u001b[0merr_msg\u001b[0m\u001b[0;34m)\u001b[0m\u001b[0;34m\u001b[0m\u001b[0;34m\u001b[0m\u001b[0m\n",
      "\u001b[0;31mFileNotFoundError\u001b[0m: [Errno 2] No such file or directory: 'dot': 'dot'",
      "\nDuring handling of the above exception, another exception occurred:\n",
      "\u001b[0;31mExecutableNotFound\u001b[0m                        Traceback (most recent call last)",
      "\u001b[0;32m<ipython-input-23-e7936a5cbfe0>\u001b[0m in \u001b[0;36m<module>\u001b[0;34m\u001b[0m\n\u001b[1;32m      5\u001b[0m \u001b[0mexport_graphviz\u001b[0m\u001b[0;34m(\u001b[0m\u001b[0mregr_1\u001b[0m\u001b[0;34m,\u001b[0m \u001b[0mout_file\u001b[0m \u001b[0;34m=\u001b[0m\u001b[0;34m'tree.dot'\u001b[0m\u001b[0;34m)\u001b[0m\u001b[0;34m\u001b[0m\u001b[0;34m\u001b[0m\u001b[0m\n\u001b[1;32m      6\u001b[0m \u001b[0;34m\u001b[0m\u001b[0m\n\u001b[0;32m----> 7\u001b[0;31m \u001b[0mrender\u001b[0m\u001b[0;34m(\u001b[0m\u001b[0;34m'dot'\u001b[0m\u001b[0;34m,\u001b[0m \u001b[0;34m'png'\u001b[0m\u001b[0;34m,\u001b[0m \u001b[0;34m'tree.dot'\u001b[0m\u001b[0;34m)\u001b[0m\u001b[0;34m\u001b[0m\u001b[0;34m\u001b[0m\u001b[0m\n\u001b[0m",
      "\u001b[0;32m~/opt/anaconda3/lib/python3.7/site-packages/graphviz/backend.py\u001b[0m in \u001b[0;36mrender\u001b[0;34m(***failed resolving arguments***)\u001b[0m\n\u001b[1;32m    221\u001b[0m         \u001b[0mcwd\u001b[0m \u001b[0;34m=\u001b[0m \u001b[0;32mNone\u001b[0m\u001b[0;34m\u001b[0m\u001b[0;34m\u001b[0m\u001b[0m\n\u001b[1;32m    222\u001b[0m \u001b[0;34m\u001b[0m\u001b[0m\n\u001b[0;32m--> 223\u001b[0;31m     \u001b[0mrun\u001b[0m\u001b[0;34m(\u001b[0m\u001b[0mcmd\u001b[0m\u001b[0;34m,\u001b[0m \u001b[0mcapture_output\u001b[0m\u001b[0;34m=\u001b[0m\u001b[0;32mTrue\u001b[0m\u001b[0;34m,\u001b[0m \u001b[0mcwd\u001b[0m\u001b[0;34m=\u001b[0m\u001b[0mcwd\u001b[0m\u001b[0;34m,\u001b[0m \u001b[0mcheck\u001b[0m\u001b[0;34m=\u001b[0m\u001b[0;32mTrue\u001b[0m\u001b[0;34m,\u001b[0m \u001b[0mquiet\u001b[0m\u001b[0;34m=\u001b[0m\u001b[0mquiet\u001b[0m\u001b[0;34m)\u001b[0m\u001b[0;34m\u001b[0m\u001b[0;34m\u001b[0m\u001b[0m\n\u001b[0m\u001b[1;32m    224\u001b[0m     \u001b[0;32mreturn\u001b[0m \u001b[0mrendered\u001b[0m\u001b[0;34m\u001b[0m\u001b[0;34m\u001b[0m\u001b[0m\n\u001b[1;32m    225\u001b[0m \u001b[0;34m\u001b[0m\u001b[0m\n",
      "\u001b[0;32m~/opt/anaconda3/lib/python3.7/site-packages/graphviz/backend.py\u001b[0m in \u001b[0;36mrun\u001b[0;34m(cmd, input, capture_output, check, encoding, quiet, **kwargs)\u001b[0m\n\u001b[1;32m    165\u001b[0m     \u001b[0;32mexcept\u001b[0m \u001b[0mOSError\u001b[0m \u001b[0;32mas\u001b[0m \u001b[0me\u001b[0m\u001b[0;34m:\u001b[0m\u001b[0;34m\u001b[0m\u001b[0;34m\u001b[0m\u001b[0m\n\u001b[1;32m    166\u001b[0m         \u001b[0;32mif\u001b[0m \u001b[0me\u001b[0m\u001b[0;34m.\u001b[0m\u001b[0merrno\u001b[0m \u001b[0;34m==\u001b[0m \u001b[0merrno\u001b[0m\u001b[0;34m.\u001b[0m\u001b[0mENOENT\u001b[0m\u001b[0;34m:\u001b[0m\u001b[0;34m\u001b[0m\u001b[0;34m\u001b[0m\u001b[0m\n\u001b[0;32m--> 167\u001b[0;31m             \u001b[0;32mraise\u001b[0m \u001b[0mExecutableNotFound\u001b[0m\u001b[0;34m(\u001b[0m\u001b[0mcmd\u001b[0m\u001b[0;34m)\u001b[0m\u001b[0;34m\u001b[0m\u001b[0;34m\u001b[0m\u001b[0m\n\u001b[0m\u001b[1;32m    168\u001b[0m         \u001b[0;32melse\u001b[0m\u001b[0;34m:\u001b[0m\u001b[0;34m\u001b[0m\u001b[0;34m\u001b[0m\u001b[0m\n\u001b[1;32m    169\u001b[0m             \u001b[0;32mraise\u001b[0m\u001b[0;34m\u001b[0m\u001b[0;34m\u001b[0m\u001b[0m\n",
      "\u001b[0;31mExecutableNotFound\u001b[0m: failed to execute ['dot', '-Kdot', '-Tpng', '-O', 'tree.dot'], make sure the Graphviz executables are on your systems' PATH"
     ]
    }
   ],
   "source": [
    "from sklearn.tree import export_graphviz  \n",
    "  \n",
    "# export the decision tree to a tree.dot file \n",
    "# for visualizing the plot easily anywhere \n",
    "export_graphviz(regr_1, out_file ='tree.dot')  \n",
    "\n",
    "render('dot', 'png', 'tree.dot')  "
   ]
  },
  {
   "cell_type": "code",
   "execution_count": 24,
   "metadata": {},
   "outputs": [
    {
     "data": {
      "image/png": "[encoded data removed]",
      "text/plain": [
       "<Figure size 864x864 with 1 Axes>"
      ]
     },
     "metadata": {
      "needs_background": "light"
     },
     "output_type": "display_data"
    }
   ],
   "source": [
    "from sklearn import tree\n",
    "\n",
    "# plot tree\n",
    "plt.figure(figsize=(12,12))  # set plot size (denoted in inches)\n",
    "tree.plot_tree(regr_1, fontsize=8)\n",
    "plt.show()\n"
   ]
  },
  {
   "cell_type": "code",
   "execution_count": 34,
   "metadata": {
    "scrolled": false
   },
   "outputs": [
    {
     "data": {
      "text/html": [
       "<div>\n",
       "<style scoped>\n",
       "    .dataframe tbody tr th:only-of-type {\n",
       "        vertical-align: middle;\n",
       "    }\n",
       "\n",
       "    .dataframe tbody tr th {\n",
       "        vertical-align: top;\n",
       "    }\n",
       "\n",
       "    .dataframe thead th {\n",
       "        text-align: right;\n",
       "    }\n",
       "</style>\n",
       "<table border=\"1\" class=\"dataframe\">\n",
       "  <thead>\n",
       "    <tr style=\"text-align: right;\">\n",
       "      <th></th>\n",
       "      <th>What is your gender? - Selected Choice</th>\n",
       "      <th>In which country do you currently reside?</th>\n",
       "      <th>What is the highest level of formal education that you have attained or plan to attain within the next 2 years?</th>\n",
       "      <th>Which best describes your undergraduate major? - Selected Choice</th>\n",
       "      <th>Select the title most similar to your current role (or most recent title if retired): - Selected Choice</th>\n",
       "      <th>In what industry is your current employer/contract (or your most recent employer if retired)? - Selected Choice</th>\n",
       "      <th>What is your age (# years)?</th>\n",
       "      <th>How many years of experience do you have in your current role?</th>\n",
       "    </tr>\n",
       "  </thead>\n",
       "  <tbody>\n",
       "    <tr>\n",
       "      <th>0</th>\n",
       "      <td>1</td>\n",
       "      <td>8</td>\n",
       "      <td>0</td>\n",
       "      <td>2</td>\n",
       "      <td>12</td>\n",
       "      <td>9</td>\n",
       "      <td>34</td>\n",
       "      <td>10</td>\n",
       "    </tr>\n",
       "    <tr>\n",
       "      <th>1</th>\n",
       "      <td>0</td>\n",
       "      <td>11</td>\n",
       "      <td>3</td>\n",
       "      <td>1</td>\n",
       "      <td>7</td>\n",
       "      <td>7</td>\n",
       "      <td>34</td>\n",
       "      <td>1</td>\n",
       "    </tr>\n",
       "    <tr>\n",
       "      <th>2</th>\n",
       "      <td>1</td>\n",
       "      <td>5</td>\n",
       "      <td>3</td>\n",
       "      <td>8</td>\n",
       "      <td>4</td>\n",
       "      <td>7</td>\n",
       "      <td>24</td>\n",
       "      <td>1</td>\n",
       "    </tr>\n",
       "    <tr>\n",
       "      <th>3</th>\n",
       "      <td>1</td>\n",
       "      <td>8</td>\n",
       "      <td>0</td>\n",
       "      <td>11</td>\n",
       "      <td>7</td>\n",
       "      <td>3</td>\n",
       "      <td>29</td>\n",
       "      <td>1</td>\n",
       "    </tr>\n",
       "    <tr>\n",
       "      <th>4</th>\n",
       "      <td>1</td>\n",
       "      <td>8</td>\n",
       "      <td>1</td>\n",
       "      <td>7</td>\n",
       "      <td>12</td>\n",
       "      <td>0</td>\n",
       "      <td>39</td>\n",
       "      <td>15</td>\n",
       "    </tr>\n",
       "    <tr>\n",
       "      <th>...</th>\n",
       "      <td>...</td>\n",
       "      <td>...</td>\n",
       "      <td>...</td>\n",
       "      <td>...</td>\n",
       "      <td>...</td>\n",
       "      <td>...</td>\n",
       "      <td>...</td>\n",
       "      <td>...</td>\n",
       "    </tr>\n",
       "    <tr>\n",
       "      <th>20180</th>\n",
       "      <td>1</td>\n",
       "      <td>4</td>\n",
       "      <td>3</td>\n",
       "      <td>1</td>\n",
       "      <td>2</td>\n",
       "      <td>18</td>\n",
       "      <td>44</td>\n",
       "      <td>15</td>\n",
       "    </tr>\n",
       "    <tr>\n",
       "      <th>20181</th>\n",
       "      <td>0</td>\n",
       "      <td>5</td>\n",
       "      <td>3</td>\n",
       "      <td>1</td>\n",
       "      <td>4</td>\n",
       "      <td>7</td>\n",
       "      <td>21</td>\n",
       "      <td>2</td>\n",
       "    </tr>\n",
       "    <tr>\n",
       "      <th>20182</th>\n",
       "      <td>1</td>\n",
       "      <td>8</td>\n",
       "      <td>1</td>\n",
       "      <td>1</td>\n",
       "      <td>15</td>\n",
       "      <td>0</td>\n",
       "      <td>34</td>\n",
       "      <td>10</td>\n",
       "    </tr>\n",
       "    <tr>\n",
       "      <th>20183</th>\n",
       "      <td>1</td>\n",
       "      <td>3</td>\n",
       "      <td>1</td>\n",
       "      <td>1</td>\n",
       "      <td>1</td>\n",
       "      <td>3</td>\n",
       "      <td>49</td>\n",
       "      <td>10</td>\n",
       "    </tr>\n",
       "    <tr>\n",
       "      <th>20184</th>\n",
       "      <td>1</td>\n",
       "      <td>8</td>\n",
       "      <td>3</td>\n",
       "      <td>1</td>\n",
       "      <td>18</td>\n",
       "      <td>3</td>\n",
       "      <td>24</td>\n",
       "      <td>1</td>\n",
       "    </tr>\n",
       "  </tbody>\n",
       "</table>\n",
       "<p>20185 rows × 8 columns</p>\n",
       "</div>"
      ],
      "text/plain": [
       "       What is your gender? - Selected Choice  \\\n",
       "0                                           1   \n",
       "1                                           0   \n",
       "2                                           1   \n",
       "3                                           1   \n",
       "4                                           1   \n",
       "...                                       ...   \n",
       "20180                                       1   \n",
       "20181                                       0   \n",
       "20182                                       1   \n",
       "20183                                       1   \n",
       "20184                                       1   \n",
       "\n",
       "       In which country do you currently reside?  \\\n",
       "0                                              8   \n",
       "1                                             11   \n",
       "2                                              5   \n",
       "3                                              8   \n",
       "4                                              8   \n",
       "...                                          ...   \n",
       "20180                                          4   \n",
       "20181                                          5   \n",
       "20182                                          8   \n",
       "20183                                          3   \n",
       "20184                                          8   \n",
       "\n",
       "       What is the highest level of formal education that you have attained or plan to attain within the next 2 years?  \\\n",
       "0                                                      0                                                                 \n",
       "1                                                      3                                                                 \n",
       "2                                                      3                                                                 \n",
       "3                                                      0                                                                 \n",
       "4                                                      1                                                                 \n",
       "...                                                  ...                                                                 \n",
       "20180                                                  3                                                                 \n",
       "20181                                                  3                                                                 \n",
       "20182                                                  1                                                                 \n",
       "20183                                                  1                                                                 \n",
       "20184                                                  3                                                                 \n",
       "\n",
       "       Which best describes your undergraduate major? - Selected Choice  \\\n",
       "0                                                      2                  \n",
       "1                                                      1                  \n",
       "2                                                      8                  \n",
       "3                                                     11                  \n",
       "4                                                      7                  \n",
       "...                                                  ...                  \n",
       "20180                                                  1                  \n",
       "20181                                                  1                  \n",
       "20182                                                  1                  \n",
       "20183                                                  1                  \n",
       "20184                                                  1                  \n",
       "\n",
       "       Select the title most similar to your current role (or most recent title if retired): - Selected Choice  \\\n",
       "0                                                     12                                                         \n",
       "1                                                      7                                                         \n",
       "2                                                      4                                                         \n",
       "3                                                      7                                                         \n",
       "4                                                     12                                                         \n",
       "...                                                  ...                                                         \n",
       "20180                                                  2                                                         \n",
       "20181                                                  4                                                         \n",
       "20182                                                 15                                                         \n",
       "20183                                                  1                                                         \n",
       "20184                                                 18                                                         \n",
       "\n",
       "       In what industry is your current employer/contract (or your most recent employer if retired)? - Selected Choice  \\\n",
       "0                                                      9                                                                 \n",
       "1                                                      7                                                                 \n",
       "2                                                      7                                                                 \n",
       "3                                                      3                                                                 \n",
       "4                                                      0                                                                 \n",
       "...                                                  ...                                                                 \n",
       "20180                                                 18                                                                 \n",
       "20181                                                  7                                                                 \n",
       "20182                                                  0                                                                 \n",
       "20183                                                  3                                                                 \n",
       "20184                                                  3                                                                 \n",
       "\n",
       "       What is your age (# years)?  \\\n",
       "0                               34   \n",
       "1                               34   \n",
       "2                               24   \n",
       "3                               29   \n",
       "4                               39   \n",
       "...                            ...   \n",
       "20180                           44   \n",
       "20181                           21   \n",
       "20182                           34   \n",
       "20183                           49   \n",
       "20184                           24   \n",
       "\n",
       "       How many years of experience do you have in your current role?  \n",
       "0                                                     10               \n",
       "1                                                      1               \n",
       "2                                                      1               \n",
       "3                                                      1               \n",
       "4                                                     15               \n",
       "...                                                  ...               \n",
       "20180                                                 15               \n",
       "20181                                                  2               \n",
       "20182                                                 10               \n",
       "20183                                                 10               \n",
       "20184                                                  1               \n",
       "\n",
       "[20185 rows x 8 columns]"
      ]
     },
     "execution_count": 34,
     "metadata": {},
     "output_type": "execute_result"
    }
   ],
   "source": [
    "X"
   ]
  },
  {
   "cell_type": "markdown",
   "metadata": {},
   "source": [
    "# Importância das variáveis "
   ]
  },
  {
   "cell_type": "code",
   "execution_count": 35,
   "metadata": {},
   "outputs": [],
   "source": [
    "from matplotlib import pyplot"
   ]
  },
  {
   "cell_type": "code",
   "execution_count": 36,
   "metadata": {
    "scrolled": false
   },
   "outputs": [
    {
     "name": "stdout",
     "output_type": "stream",
     "text": [
      "Feature: 0, Score: 0.00000\n",
      "Feature: 1, Score: 0.45205\n",
      "Feature: 2, Score: 0.00000\n",
      "Feature: 3, Score: 0.00000\n",
      "Feature: 4, Score: 0.23385\n",
      "Feature: 5, Score: 0.03213\n",
      "Feature: 6, Score: 0.28117\n",
      "Feature: 7, Score: 0.00079\n"
     ]
    }
   ],
   "source": [
    "importance = regr_1.feature_importances_\n",
    "\n",
    "# summarize feature importance\n",
    "for i,v in enumerate(importance):\n",
    "    print('Feature: %0d, Score: %.5f' % (i,v))\n"
   ]
  },
  {
   "cell_type": "code",
   "execution_count": 37,
   "metadata": {},
   "outputs": [
    {
     "data": {
      "text/plain": [
       "array([0.        , 0.45205132, 0.        , 0.        , 0.23385259,\n",
       "       0.03213349, 0.28117142, 0.00079118])"
      ]
     },
     "execution_count": 37,
     "metadata": {},
     "output_type": "execute_result"
    }
   ],
   "source": [
    "importance"
   ]
  },
  {
   "cell_type": "code",
   "execution_count": 50,
   "metadata": {},
   "outputs": [
    {
     "data": {
      "text/plain": [
       "Index(['What is your gender? - Selected Choice',\n",
       "       'What is the highest level of formal education that you have attained or plan to attain within the next 2 years?',\n",
       "       'Which best describes your undergraduate major? - Selected Choice',\n",
       "       'In what industry is your current employer/contract (or your most recent employer if retired)? - Selected Choice',\n",
       "       'What is your age (# years)?',\n",
       "       'How many years of experience do you have in your current role?'],\n",
       "      dtype='object')"
      ]
     },
     "execution_count": 50,
     "metadata": {},
     "output_type": "execute_result"
    }
   ],
   "source": [
    "features_n"
   ]
  },
  {
   "cell_type": "code",
   "execution_count": 38,
   "metadata": {},
   "outputs": [],
   "source": [
    "features_n = X.columns"
   ]
  },
  {
   "cell_type": "code",
   "execution_count": 39,
   "metadata": {},
   "outputs": [
    {
     "data": {
      "image/png": "[encoded data removed]",
      "text/plain": [
       "<Figure size 432x288 with 1 Axes>"
      ]
     },
     "metadata": {
      "needs_background": "light"
     },
     "output_type": "display_data"
    }
   ],
   "source": [
    "\n",
    "# plot feature importance\n",
    "pyplot.bar([x for x in range(len(importance))], importance)\n",
    "pyplot.xticks([x for x in range(len(importance))], features_n, rotation='vertical')\n",
    "pyplot.show()"
   ]
  },
  {
   "cell_type": "markdown",
   "metadata": {},
   "source": [
    "# Análise dos Resultados"
   ]
  },
  {
   "cell_type": "markdown",
   "metadata": {},
   "source": [
    "Esse modelo sugere, que a variavel mais importante para a determinação do salário é o Pais de residência. Seguida da idade e do titulo.\n",
    "\n",
    "Dessa forma, não conseguimos identificar um viés de genêro. O que não quer dizer que ele não exista, mas que esse padrão não foi identificado na nossa amostra. \n",
    "\n",
    "Algumas análises adicionais que podemos fazer, é por exemplo, fazer o que chamamos de pareamento. Selecionar pessoas do mesmo país e com o mesmo titulo e tentar identificar se existe um viés. "
   ]
  },
  {
   "cell_type": "code",
   "execution_count": 56,
   "metadata": {
    "scrolled": true
   },
   "outputs": [
    {
     "data": {
      "text/plain": [
       "8     6115\n",
       "11    4151\n",
       "5     3472\n",
       "2     1349\n",
       "7      871\n",
       "9      743\n",
       "0      654\n",
       "4      643\n",
       "10     616\n",
       "1      529\n",
       "3      524\n",
       "6      518\n",
       "Name: In which country do you currently reside?, dtype: int64"
      ]
     },
     "execution_count": 56,
     "metadata": {},
     "output_type": "execute_result"
    }
   ],
   "source": [
    "df_modelo.iloc[:,1].value_counts() # vamos selecionar todos do pais 11 --> United States of America                                \n"
   ]
  },
  {
   "cell_type": "code",
   "execution_count": 57,
   "metadata": {
    "scrolled": false
   },
   "outputs": [
    {
     "data": {
      "text/plain": [
       "20    4350\n",
       "7     3902\n",
       "18    2936\n",
       "4     1776\n",
       "12    1254\n",
       "16    1131\n",
       "2      739\n",
       "0      729\n",
       "5      694\n",
       "15     570\n",
       "9      562\n",
       "14     409\n",
       "1      342\n",
       "19     223\n",
       "3      138\n",
       "10     111\n",
       "8      110\n",
       "17      98\n",
       "13      93\n",
       "6       18\n",
       "Name: Select the title most similar to your current role (or most recent title if retired): - Selected Choice, dtype: int64"
      ]
     },
     "execution_count": 57,
     "metadata": {},
     "output_type": "execute_result"
    }
   ],
   "source": [
    "df_modelo.iloc[:,4].value_counts() # vamos pegar todos da profissao 7 - Data scientist"
   ]
  },
  {
   "cell_type": "code",
   "execution_count": 58,
   "metadata": {},
   "outputs": [],
   "source": [
    "df_modelo2 = df_modelo[(df_modelo.iloc[:,1] == 11) & (df_modelo.iloc[:,4] == 7) ]\n",
    "# df_modelo2 = df_modelo[(df_modelo.iloc[:,4] == 14) ]"
   ]
  },
  {
   "cell_type": "code",
   "execution_count": 59,
   "metadata": {},
   "outputs": [],
   "source": [
    "df_modelo2 = df_modelo2.drop(['In which country do you currently reside?', 'Select the title most similar to your current role (or most recent title if retired): - Selected Choice'], axis=1)\n",
    "# df_modelo2 = df_modelo2.drop(['Select the title most similar to your current role (or most recent title if retired): - Selected Choice'], axis=1)"
   ]
  },
  {
   "cell_type": "code",
   "execution_count": 60,
   "metadata": {},
   "outputs": [],
   "source": [
    "X = df_modelo2.drop('What is your current yearly compensation (approximate $USD)?', axis=1)\n",
    "y = df_modelo2['What is your current yearly compensation (approximate $USD)?']"
   ]
  },
  {
   "cell_type": "code",
   "execution_count": 61,
   "metadata": {},
   "outputs": [],
   "source": [
    "X_train, X_test, y_train, y_test = train_test_split(\n",
    "    X, y, test_size=0.33, random_state=42)"
   ]
  },
  {
   "cell_type": "code",
   "execution_count": 62,
   "metadata": {},
   "outputs": [
    {
     "data": {
      "text/html": [
       "<div>\n",
       "<style scoped>\n",
       "    .dataframe tbody tr th:only-of-type {\n",
       "        vertical-align: middle;\n",
       "    }\n",
       "\n",
       "    .dataframe tbody tr th {\n",
       "        vertical-align: top;\n",
       "    }\n",
       "\n",
       "    .dataframe thead th {\n",
       "        text-align: right;\n",
       "    }\n",
       "</style>\n",
       "<table border=\"1\" class=\"dataframe\">\n",
       "  <thead>\n",
       "    <tr style=\"text-align: right;\">\n",
       "      <th></th>\n",
       "      <th>What is your gender? - Selected Choice</th>\n",
       "      <th>What is the highest level of formal education that you have attained or plan to attain within the next 2 years?</th>\n",
       "      <th>Which best describes your undergraduate major? - Selected Choice</th>\n",
       "      <th>In what industry is your current employer/contract (or your most recent employer if retired)? - Selected Choice</th>\n",
       "      <th>What is your age (# years)?</th>\n",
       "      <th>How many years of experience do you have in your current role?</th>\n",
       "    </tr>\n",
       "  </thead>\n",
       "  <tbody>\n",
       "    <tr>\n",
       "      <th>1</th>\n",
       "      <td>0</td>\n",
       "      <td>3</td>\n",
       "      <td>1</td>\n",
       "      <td>7</td>\n",
       "      <td>34</td>\n",
       "      <td>1</td>\n",
       "    </tr>\n",
       "    <tr>\n",
       "      <th>8</th>\n",
       "      <td>1</td>\n",
       "      <td>3</td>\n",
       "      <td>2</td>\n",
       "      <td>16</td>\n",
       "      <td>44</td>\n",
       "      <td>10</td>\n",
       "    </tr>\n",
       "    <tr>\n",
       "      <th>56</th>\n",
       "      <td>1</td>\n",
       "      <td>1</td>\n",
       "      <td>12</td>\n",
       "      <td>11</td>\n",
       "      <td>34</td>\n",
       "      <td>4</td>\n",
       "    </tr>\n",
       "    <tr>\n",
       "      <th>65</th>\n",
       "      <td>0</td>\n",
       "      <td>1</td>\n",
       "      <td>12</td>\n",
       "      <td>13</td>\n",
       "      <td>39</td>\n",
       "      <td>15</td>\n",
       "    </tr>\n",
       "    <tr>\n",
       "      <th>83</th>\n",
       "      <td>1</td>\n",
       "      <td>3</td>\n",
       "      <td>5</td>\n",
       "      <td>15</td>\n",
       "      <td>39</td>\n",
       "      <td>2</td>\n",
       "    </tr>\n",
       "    <tr>\n",
       "      <th>...</th>\n",
       "      <td>...</td>\n",
       "      <td>...</td>\n",
       "      <td>...</td>\n",
       "      <td>...</td>\n",
       "      <td>...</td>\n",
       "      <td>...</td>\n",
       "    </tr>\n",
       "    <tr>\n",
       "      <th>16381</th>\n",
       "      <td>0</td>\n",
       "      <td>3</td>\n",
       "      <td>2</td>\n",
       "      <td>6</td>\n",
       "      <td>34</td>\n",
       "      <td>2</td>\n",
       "    </tr>\n",
       "    <tr>\n",
       "      <th>16462</th>\n",
       "      <td>1</td>\n",
       "      <td>3</td>\n",
       "      <td>2</td>\n",
       "      <td>11</td>\n",
       "      <td>24</td>\n",
       "      <td>1</td>\n",
       "    </tr>\n",
       "    <tr>\n",
       "      <th>17360</th>\n",
       "      <td>1</td>\n",
       "      <td>1</td>\n",
       "      <td>7</td>\n",
       "      <td>16</td>\n",
       "      <td>34</td>\n",
       "      <td>5</td>\n",
       "    </tr>\n",
       "    <tr>\n",
       "      <th>17663</th>\n",
       "      <td>1</td>\n",
       "      <td>0</td>\n",
       "      <td>2</td>\n",
       "      <td>3</td>\n",
       "      <td>24</td>\n",
       "      <td>1</td>\n",
       "    </tr>\n",
       "    <tr>\n",
       "      <th>19960</th>\n",
       "      <td>1</td>\n",
       "      <td>3</td>\n",
       "      <td>8</td>\n",
       "      <td>8</td>\n",
       "      <td>34</td>\n",
       "      <td>10</td>\n",
       "    </tr>\n",
       "  </tbody>\n",
       "</table>\n",
       "<p>902 rows × 6 columns</p>\n",
       "</div>"
      ],
      "text/plain": [
       "       What is your gender? - Selected Choice  \\\n",
       "1                                           0   \n",
       "8                                           1   \n",
       "56                                          1   \n",
       "65                                          0   \n",
       "83                                          1   \n",
       "...                                       ...   \n",
       "16381                                       0   \n",
       "16462                                       1   \n",
       "17360                                       1   \n",
       "17663                                       1   \n",
       "19960                                       1   \n",
       "\n",
       "       What is the highest level of formal education that you have attained or plan to attain within the next 2 years?  \\\n",
       "1                                                      3                                                                 \n",
       "8                                                      3                                                                 \n",
       "56                                                     1                                                                 \n",
       "65                                                     1                                                                 \n",
       "83                                                     3                                                                 \n",
       "...                                                  ...                                                                 \n",
       "16381                                                  3                                                                 \n",
       "16462                                                  3                                                                 \n",
       "17360                                                  1                                                                 \n",
       "17663                                                  0                                                                 \n",
       "19960                                                  3                                                                 \n",
       "\n",
       "       Which best describes your undergraduate major? - Selected Choice  \\\n",
       "1                                                      1                  \n",
       "8                                                      2                  \n",
       "56                                                    12                  \n",
       "65                                                    12                  \n",
       "83                                                     5                  \n",
       "...                                                  ...                  \n",
       "16381                                                  2                  \n",
       "16462                                                  2                  \n",
       "17360                                                  7                  \n",
       "17663                                                  2                  \n",
       "19960                                                  8                  \n",
       "\n",
       "       In what industry is your current employer/contract (or your most recent employer if retired)? - Selected Choice  \\\n",
       "1                                                      7                                                                 \n",
       "8                                                     16                                                                 \n",
       "56                                                    11                                                                 \n",
       "65                                                    13                                                                 \n",
       "83                                                    15                                                                 \n",
       "...                                                  ...                                                                 \n",
       "16381                                                  6                                                                 \n",
       "16462                                                 11                                                                 \n",
       "17360                                                 16                                                                 \n",
       "17663                                                  3                                                                 \n",
       "19960                                                  8                                                                 \n",
       "\n",
       "       What is your age (# years)?  \\\n",
       "1                               34   \n",
       "8                               44   \n",
       "56                              34   \n",
       "65                              39   \n",
       "83                              39   \n",
       "...                            ...   \n",
       "16381                           34   \n",
       "16462                           24   \n",
       "17360                           34   \n",
       "17663                           24   \n",
       "19960                           34   \n",
       "\n",
       "       How many years of experience do you have in your current role?  \n",
       "1                                                      1               \n",
       "8                                                     10               \n",
       "56                                                     4               \n",
       "65                                                    15               \n",
       "83                                                     2               \n",
       "...                                                  ...               \n",
       "16381                                                  2               \n",
       "16462                                                  1               \n",
       "17360                                                  5               \n",
       "17663                                                  1               \n",
       "19960                                                 10               \n",
       "\n",
       "[902 rows x 6 columns]"
      ]
     },
     "execution_count": 62,
     "metadata": {},
     "output_type": "execute_result"
    }
   ],
   "source": [
    "X"
   ]
  },
  {
   "cell_type": "code",
   "execution_count": 63,
   "metadata": {},
   "outputs": [],
   "source": [
    "# Fit regression model\n",
    "regr_1 = DecisionTreeRegressor(max_depth=4)\n",
    "regr_1.fit(X_train, y_train)\n",
    "\n",
    "# Predict\n",
    "y_pred = regr_1.predict(X_test)"
   ]
  },
  {
   "cell_type": "code",
   "execution_count": 64,
   "metadata": {},
   "outputs": [
    {
     "data": {
      "text/plain": [
       "52.11869185263258"
      ]
     },
     "execution_count": 64,
     "metadata": {},
     "output_type": "execute_result"
    }
   ],
   "source": [
    "mean_absolute_error(y_test, y_pred)"
   ]
  },
  {
   "cell_type": "code",
   "execution_count": 65,
   "metadata": {},
   "outputs": [
    {
     "name": "stdout",
     "output_type": "stream",
     "text": [
      "Feature: 0, Score: 0.00321\n",
      "Feature: 1, Score: 0.01960\n",
      "Feature: 2, Score: 0.00000\n",
      "Feature: 3, Score: 0.21493\n",
      "Feature: 4, Score: 0.58222\n",
      "Feature: 5, Score: 0.18004\n"
     ]
    }
   ],
   "source": [
    "importance = regr_1.feature_importances_\n",
    "\n",
    "# summarize feature importance\n",
    "for i,v in enumerate(importance):\n",
    "    print('Feature: %0d, Score: %.5f' % (i,v))"
   ]
  },
  {
   "cell_type": "code",
   "execution_count": 66,
   "metadata": {},
   "outputs": [],
   "source": [
    "features_n = X.columns"
   ]
  },
  {
   "cell_type": "code",
   "execution_count": 67,
   "metadata": {},
   "outputs": [
    {
     "data": {
      "image/png": "[encoded data removed]",
      "text/plain": [
       "<Figure size 432x288 with 1 Axes>"
      ]
     },
     "metadata": {
      "needs_background": "light"
     },
     "output_type": "display_data"
    }
   ],
   "source": [
    "# plot feature importance\n",
    "pyplot.bar([x for x in range(len(importance))], importance)\n",
    "pyplot.xticks([x for x in range(len(importance))], features_n, rotation='vertical')\n",
    "pyplot.show()"
   ]
  },
  {
   "cell_type": "markdown",
   "metadata": {},
   "source": [
    "Outra hipotese que podemos levantar aqui é o desbalanceamento da base: \n",
    "    "
   ]
  },
  {
   "cell_type": "code",
   "execution_count": 68,
   "metadata": {
    "scrolled": true
   },
   "outputs": [
    {
     "data": {
      "text/plain": [
       "1    0.745011\n",
       "0    0.231707\n",
       "2    0.023282\n",
       "Name: What is your gender? - Selected Choice, dtype: float64"
      ]
     },
     "execution_count": 68,
     "metadata": {},
     "output_type": "execute_result"
    }
   ],
   "source": [
    "df_modelo2.iloc[:,0].value_counts(normalize=True)"
   ]
  },
  {
   "cell_type": "code",
   "execution_count": 69,
   "metadata": {},
   "outputs": [
    {
     "data": {
      "text/plain": [
       "1    672\n",
       "0    209\n",
       "2     21\n",
       "Name: What is your gender? - Selected Choice, dtype: int64"
      ]
     },
     "execution_count": 69,
     "metadata": {},
     "output_type": "execute_result"
    }
   ],
   "source": [
    "df_modelo2.iloc[:,0].value_counts()"
   ]
  },
  {
   "cell_type": "markdown",
   "metadata": {},
   "source": [
    "Vamos normalizar colocando a mesma quantidade de homens e mulheres! "
   ]
  },
  {
   "cell_type": "code",
   "execution_count": 70,
   "metadata": {},
   "outputs": [],
   "source": [
    "from sklearn.utils import resample"
   ]
  },
  {
   "cell_type": "code",
   "execution_count": 71,
   "metadata": {
    "scrolled": true
   },
   "outputs": [
    {
     "data": {
      "text/plain": [
       "1    209\n",
       "0    209\n",
       "Name: What is your gender? - Selected Choice, dtype: int64"
      ]
     },
     "execution_count": 71,
     "metadata": {},
     "output_type": "execute_result"
    }
   ],
   "source": [
    "# Separate majority and minority classes\n",
    "df_majority = df_modelo2[df_modelo2.iloc[:,0]==1]\n",
    "df_minority = df_modelo2[df_modelo2.iloc[:,0]==0]\n",
    " \n",
    "# Downsample majority class\n",
    "df_majority_downsampled = resample(df_majority, \n",
    "                                 replace=False,    # sample without replacement\n",
    "                                 n_samples=209,     # to match minority class\n",
    "                                 random_state=123) # reproducible results\n",
    " \n",
    "# Combine minority class with downsampled majority class\n",
    "df_downsampled = pd.concat([df_majority_downsampled, df_minority])\n",
    " \n",
    "# Display new class counts\n",
    "df_downsampled.iloc[:,0].value_counts()"
   ]
  },
  {
   "cell_type": "code",
   "execution_count": 72,
   "metadata": {},
   "outputs": [
    {
     "data": {
      "text/html": [
       "<div>\n",
       "<style scoped>\n",
       "    .dataframe tbody tr th:only-of-type {\n",
       "        vertical-align: middle;\n",
       "    }\n",
       "\n",
       "    .dataframe tbody tr th {\n",
       "        vertical-align: top;\n",
       "    }\n",
       "\n",
       "    .dataframe thead th {\n",
       "        text-align: right;\n",
       "    }\n",
       "</style>\n",
       "<table border=\"1\" class=\"dataframe\">\n",
       "  <thead>\n",
       "    <tr style=\"text-align: right;\">\n",
       "      <th></th>\n",
       "      <th>What is your gender? - Selected Choice</th>\n",
       "      <th>What is the highest level of formal education that you have attained or plan to attain within the next 2 years?</th>\n",
       "      <th>Which best describes your undergraduate major? - Selected Choice</th>\n",
       "      <th>In what industry is your current employer/contract (or your most recent employer if retired)? - Selected Choice</th>\n",
       "      <th>What is your age (# years)?</th>\n",
       "      <th>How many years of experience do you have in your current role?</th>\n",
       "      <th>What is your current yearly compensation (approximate $USD)?</th>\n",
       "    </tr>\n",
       "  </thead>\n",
       "  <tbody>\n",
       "    <tr>\n",
       "      <th>4217</th>\n",
       "      <td>1</td>\n",
       "      <td>3</td>\n",
       "      <td>8</td>\n",
       "      <td>3</td>\n",
       "      <td>34</td>\n",
       "      <td>3</td>\n",
       "      <td>125</td>\n",
       "    </tr>\n",
       "    <tr>\n",
       "      <th>9250</th>\n",
       "      <td>1</td>\n",
       "      <td>3</td>\n",
       "      <td>12</td>\n",
       "      <td>11</td>\n",
       "      <td>39</td>\n",
       "      <td>15</td>\n",
       "      <td>100</td>\n",
       "    </tr>\n",
       "    <tr>\n",
       "      <th>2579</th>\n",
       "      <td>1</td>\n",
       "      <td>0</td>\n",
       "      <td>3</td>\n",
       "      <td>16</td>\n",
       "      <td>24</td>\n",
       "      <td>1</td>\n",
       "      <td>100</td>\n",
       "    </tr>\n",
       "    <tr>\n",
       "      <th>15649</th>\n",
       "      <td>1</td>\n",
       "      <td>3</td>\n",
       "      <td>2</td>\n",
       "      <td>14</td>\n",
       "      <td>29</td>\n",
       "      <td>4</td>\n",
       "      <td>200</td>\n",
       "    </tr>\n",
       "    <tr>\n",
       "      <th>16156</th>\n",
       "      <td>1</td>\n",
       "      <td>3</td>\n",
       "      <td>8</td>\n",
       "      <td>3</td>\n",
       "      <td>29</td>\n",
       "      <td>2</td>\n",
       "      <td>250</td>\n",
       "    </tr>\n",
       "  </tbody>\n",
       "</table>\n",
       "</div>"
      ],
      "text/plain": [
       "       What is your gender? - Selected Choice  \\\n",
       "4217                                        1   \n",
       "9250                                        1   \n",
       "2579                                        1   \n",
       "15649                                       1   \n",
       "16156                                       1   \n",
       "\n",
       "       What is the highest level of formal education that you have attained or plan to attain within the next 2 years?  \\\n",
       "4217                                                   3                                                                 \n",
       "9250                                                   3                                                                 \n",
       "2579                                                   0                                                                 \n",
       "15649                                                  3                                                                 \n",
       "16156                                                  3                                                                 \n",
       "\n",
       "       Which best describes your undergraduate major? - Selected Choice  \\\n",
       "4217                                                   8                  \n",
       "9250                                                  12                  \n",
       "2579                                                   3                  \n",
       "15649                                                  2                  \n",
       "16156                                                  8                  \n",
       "\n",
       "       In what industry is your current employer/contract (or your most recent employer if retired)? - Selected Choice  \\\n",
       "4217                                                   3                                                                 \n",
       "9250                                                  11                                                                 \n",
       "2579                                                  16                                                                 \n",
       "15649                                                 14                                                                 \n",
       "16156                                                  3                                                                 \n",
       "\n",
       "       What is your age (# years)?  \\\n",
       "4217                            34   \n",
       "9250                            39   \n",
       "2579                            24   \n",
       "15649                           29   \n",
       "16156                           29   \n",
       "\n",
       "       How many years of experience do you have in your current role?  \\\n",
       "4217                                                   3                \n",
       "9250                                                  15                \n",
       "2579                                                   1                \n",
       "15649                                                  4                \n",
       "16156                                                  2                \n",
       "\n",
       "       What is your current yearly compensation (approximate $USD)?  \n",
       "4217                                                 125             \n",
       "9250                                                 100             \n",
       "2579                                                 100             \n",
       "15649                                                200             \n",
       "16156                                                250             "
      ]
     },
     "execution_count": 72,
     "metadata": {},
     "output_type": "execute_result"
    }
   ],
   "source": [
    "df_majority_downsampled.head()"
   ]
  },
  {
   "cell_type": "code",
   "execution_count": 73,
   "metadata": {},
   "outputs": [],
   "source": [
    "X = df_majority_downsampled.drop('What is your current yearly compensation (approximate $USD)?', axis=1)\n",
    "y = df_majority_downsampled['What is your current yearly compensation (approximate $USD)?']"
   ]
  },
  {
   "cell_type": "code",
   "execution_count": 74,
   "metadata": {},
   "outputs": [],
   "source": [
    "X_train, X_test, y_train, y_test = train_test_split(\n",
    "    X, y, test_size=0.33, random_state=42)"
   ]
  },
  {
   "cell_type": "code",
   "execution_count": 75,
   "metadata": {},
   "outputs": [],
   "source": [
    "# Fit regression model\n",
    "regr_1 = DecisionTreeRegressor(max_depth=4)\n",
    "regr_1.fit(X_train, y_train)\n",
    "\n",
    "# Predict\n",
    "y_pred = regr_1.predict(X_test)"
   ]
  },
  {
   "cell_type": "code",
   "execution_count": 76,
   "metadata": {
    "scrolled": true
   },
   "outputs": [
    {
     "data": {
      "text/plain": [
       "75.22594079460463"
      ]
     },
     "execution_count": 76,
     "metadata": {},
     "output_type": "execute_result"
    }
   ],
   "source": [
    "mean_absolute_error(y_test, y_pred)"
   ]
  },
  {
   "cell_type": "code",
   "execution_count": 78,
   "metadata": {},
   "outputs": [
    {
     "name": "stdout",
     "output_type": "stream",
     "text": [
      "Feature: 0, Score: 0.00000\n",
      "Feature: 1, Score: 0.03702\n",
      "Feature: 2, Score: 0.14263\n",
      "Feature: 3, Score: 0.40117\n",
      "Feature: 4, Score: 0.14289\n",
      "Feature: 5, Score: 0.27629\n"
     ]
    }
   ],
   "source": [
    "importance = regr_1.feature_importances_\n",
    "\n",
    "# summarize feature importance\n",
    "for i,v in enumerate(importance):\n",
    "    print('Feature: %0d, Score: %.5f' % (i,v))"
   ]
  },
  {
   "cell_type": "code",
   "execution_count": 79,
   "metadata": {},
   "outputs": [],
   "source": [
    "features_n = X.columns"
   ]
  },
  {
   "cell_type": "code",
   "execution_count": 80,
   "metadata": {},
   "outputs": [
    {
     "data": {
      "image/png": "[encoded data removed]",
      "text/plain": [
       "<Figure size 432x288 with 1 Axes>"
      ]
     },
     "metadata": {
      "needs_background": "light"
     },
     "output_type": "display_data"
    }
   ],
   "source": [
    "# plot feature importance\n",
    "pyplot.bar([x for x in range(len(importance))], importance)\n",
    "pyplot.xticks([x for x in range(len(importance))], features_n, rotation='vertical')\n",
    "pyplot.show()"
   ]
  },
  {
   "cell_type": "code",
   "execution_count": null,
   "metadata": {},
   "outputs": [],
   "source": []
  }
 ],
 "metadata": {
  "kernelspec": {
   "display_name": "Python 3",
   "language": "python",
   "name": "python3"
  },
  "language_info": {
   "codemirror_mode": {
    "name": "ipython",
    "version": 3
   },
   "file_extension": ".py",
   "mimetype": "text/x-python",
   "name": "python",
   "nbconvert_exporter": "python",
   "pygments_lexer": "ipython3",
   "version": "3.7.6"
  },
  "toc": {
   "base_numbering": 1,
   "nav_menu": {},
   "number_sections": true,
   "sideBar": true,
   "skip_h1_title": false,
   "title_cell": "Table of Contents",
   "title_sidebar": "Contents",
   "toc_cell": true,
   "toc_position": {},
   "toc_section_display": true,
   "toc_window_display": false
  }
 },
 "nbformat": 4,
 "nbformat_minor": 4
}
