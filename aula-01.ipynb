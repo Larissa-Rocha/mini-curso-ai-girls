{
 "cells": [
  {
   "cell_type": "markdown",
   "metadata": {},
   "source": [
    "<img src='figures/logo.png'>"
   ]
  },
  {
   "cell_type": "markdown",
   "metadata": {
    "toc": true
   },
   "source": [
    "<h1>Table of Contents<span class=\"tocSkip\"></span></h1>\n",
    "<div class=\"toc\"><ul class=\"toc-item\"><li><span><a href=\"#Você-se-planeja?\" data-toc-modified-id=\"Você-se-planeja?-1\"><span class=\"toc-item-num\">1&nbsp;&nbsp;</span>Você se planeja?</a></span></li><li><span><a href=\"#Metodologias-de-trabalho\" data-toc-modified-id=\"Metodologias-de-trabalho-2\"><span class=\"toc-item-num\">2&nbsp;&nbsp;</span>Metodologias de trabalho</a></span></li><li><span><a href=\"#Referências\" data-toc-modified-id=\"Referências-3\"><span class=\"toc-item-num\">3&nbsp;&nbsp;</span>Referências</a></span></li></ul></div>"
   ]
  },
  {
   "cell_type": "markdown",
   "metadata": {},
   "source": [
    "# Você se planeja?"
   ]
  },
  {
   "cell_type": "markdown",
   "metadata": {},
   "source": [
    "<img src='figures/fluxograma-Go-Horse.gif'>"
   ]
  },
  {
   "cell_type": "markdown",
   "metadata": {},
   "source": [
    "Muitas vezes nós começamos a fazer alguma coisa, em qualquer área que seja, até mesmo na cozinha, sem saber muito bem o que quer ou como fazer. Não é verdade? E isso acontece também aqui em ciência de dados ou em programação. E isso já virou até piada. Mas é coisas séria. É importante a gente saber o que quer, quais os resultados esperados, quais etapas são importantes para que a coisa funcione, quem são as pessoas importantes nesse projeto. "
   ]
  },
  {
   "cell_type": "markdown",
   "metadata": {},
   "source": [
    "# Metodologias de trabalho"
   ]
  },
  {
   "cell_type": "markdown",
   "metadata": {},
   "source": [
    "Pensando nisso, as pessoas começaram a criar metodologias de trabalho. Para a área de dados, existem algumas conhecidas, como o **KDD** (Knowledge Discovery in Databases) e o **CRISP-DM** (Cross-Industry Standard Process for Data Mining). \n",
    "\n",
    "Hoje eu vou falar um pouquinho sobre o <font color='#990099'> **CRISP-DM** </font>, e assim, vocês vão conseguir estruturar melhor o projeto de vocês."
   ]
  },
  {
   "cell_type": "markdown",
   "metadata": {
    "scrolled": true
   },
   "source": [
    "\n",
    "<img src='figures/crisp-dm-nutshell-v3.png'>"
   ]
  },
  {
   "cell_type": "markdown",
   "metadata": {},
   "source": [
    "# Referências"
   ]
  },
  {
   "cell_type": "markdown",
   "metadata": {},
   "source": [
    " * https://www.youtube.com/watch?v=qtMzVEWo0d4&t=3s\n",
    " * Livro: Manual Prático de Data Science, Mario Filho"
   ]
  }
 ],
 "metadata": {
  "kernelspec": {
   "display_name": "Python 3",
   "language": "python",
   "name": "python3"
  },
  "language_info": {
   "codemirror_mode": {
    "name": "ipython",
    "version": 3
   },
   "file_extension": ".py",
   "mimetype": "text/x-python",
   "name": "python",
   "nbconvert_exporter": "python",
   "pygments_lexer": "ipython3",
   "version": "3.7.6"
  },
  "toc": {
   "base_numbering": 1,
   "nav_menu": {},
   "number_sections": true,
   "sideBar": true,
   "skip_h1_title": false,
   "title_cell": "Table of Contents",
   "title_sidebar": "Contents",
   "toc_cell": true,
   "toc_position": {},
   "toc_section_display": true,
   "toc_window_display": false
  }
 },
 "nbformat": 4,
 "nbformat_minor": 4
}
