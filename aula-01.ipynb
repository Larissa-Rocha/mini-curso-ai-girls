{
 "cells": [
  {
   "cell_type": "markdown",
   "metadata": {
    "toc": true
   },
   "source": [
    "<h1>Table of Contents<span class=\"tocSkip\"></span></h1>\n",
    "<div class=\"toc\"><ul class=\"toc-item\"><li><span><a href=\"#Você-se-planeja?\" data-toc-modified-id=\"Você-se-planeja?-1\"><span class=\"toc-item-num\">1&nbsp;&nbsp;</span>Você se planeja?</a></span></li><li><span><a href=\"#Referências\" data-toc-modified-id=\"Referências-2\"><span class=\"toc-item-num\">2&nbsp;&nbsp;</span>Referências</a></span></li></ul></div>"
   ]
  },
  {
   "cell_type": "markdown",
   "metadata": {},
   "source": [
    "# Você se planeja?"
   ]
  },
  {
   "cell_type": "markdown",
   "metadata": {},
   "source": [
    "<img src='figures/fluxograma-Go-Horse.gif'>"
   ]
  },
  {
   "cell_type": "markdown",
   "metadata": {},
   "source": [
    "Muitas vezes nós começamos a fazer alguma coisa, em qualquer área que seja, até mesmo na cozinha, sem saber muito bem o que quer ou como fazer. Não é verdade? E isso acontece também aqui em ciência de dados ou em programação. E isso já virou até piada. Mas é coisas séria. É importante a gente saber o que quer, quais os resultados esperados, quais etapas são importantes para que a coisa funcione, quem são as pessoas importantes nesse projeto. "
   ]
  },
  {
   "cell_type": "markdown",
   "metadata": {},
   "source": [
    "Pensando nisso, as pessoas começaram a criar metodologias de trabalho. Para a área de dados, existem algumas conhecidas, como o KDD e o CRISP-DM. \n",
    "\n",
    "Hoje eu vou falar um pouquinho sobre o CRISP-DM e assim, vocês vão conseguir estruturar melhor o projeto de vocês."
   ]
  },
  {
   "cell_type": "code",
   "execution_count": 2,
   "metadata": {
    "scrolled": true
   },
   "outputs": [
    {
     "data": {
      "text/html": [
       "\n",
       "        <iframe\n",
       "            width=\"800\"\n",
       "            height=\"500\"\n",
       "            src=\"figures/crisp-dm-nutshell-v3.pdf\"\n",
       "            frameborder=\"0\"\n",
       "            allowfullscreen\n",
       "        ></iframe>\n",
       "        "
      ],
      "text/plain": [
       "<IPython.lib.display.IFrame at 0x7ff9c4e0d290>"
      ]
     },
     "execution_count": 2,
     "metadata": {},
     "output_type": "execute_result"
    }
   ],
   "source": [
    "from IPython.display import IFrame\n",
    "IFrame(\"figures/crisp-dm-nutshell-v3.pdf\", width=800, height=500)"
   ]
  },
  {
   "cell_type": "markdown",
   "metadata": {},
   "source": [
    "# Referências"
   ]
  },
  {
   "cell_type": "markdown",
   "metadata": {},
   "source": [
    " * https://www.youtube.com/watch?v=qtMzVEWo0d4&t=3s\n",
    " * Livro: Manual Prático de Data Science, Mario Filho"
   ]
  }
 ],
 "metadata": {
  "kernelspec": {
   "display_name": "Python 3",
   "language": "python",
   "name": "python3"
  },
  "language_info": {
   "codemirror_mode": {
    "name": "ipython",
    "version": 3
   },
   "file_extension": ".py",
   "mimetype": "text/x-python",
   "name": "python",
   "nbconvert_exporter": "python",
   "pygments_lexer": "ipython3",
   "version": "3.7.6"
  },
  "toc": {
   "base_numbering": 1,
   "nav_menu": {},
   "number_sections": true,
   "sideBar": true,
   "skip_h1_title": false,
   "title_cell": "Table of Contents",
   "title_sidebar": "Contents",
   "toc_cell": true,
   "toc_position": {},
   "toc_section_display": true,
   "toc_window_display": true
  }
 },
 "nbformat": 4,
 "nbformat_minor": 4
}
