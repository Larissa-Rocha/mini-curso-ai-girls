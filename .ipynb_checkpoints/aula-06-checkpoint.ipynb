{
 "cells": [
  {
   "cell_type": "markdown",
   "metadata": {
    "toc": true
   },
   "source": [
    "<h1>Table of Contents<span class=\"tocSkip\"></span></h1>\n",
    "<div class=\"toc\"><ul class=\"toc-item\"><li><span><a href=\"#Aula-1\" data-toc-modified-id=\"Aula-1-1\"><span class=\"toc-item-num\">1&nbsp;&nbsp;</span>Aula 1</a></span></li><li><span><a href=\"#Aula-2\" data-toc-modified-id=\"Aula-2-2\"><span class=\"toc-item-num\">2&nbsp;&nbsp;</span>Aula 2</a></span><ul class=\"toc-item\"><li><span><a href=\"#Instalação\" data-toc-modified-id=\"Instalação-2.1\"><span class=\"toc-item-num\">2.1&nbsp;&nbsp;</span>Instalação</a></span><ul class=\"toc-item\"><li><span><a href=\"#Onde-eu-consigo-dados?\" data-toc-modified-id=\"Onde-eu-consigo-dados?-2.1.1\"><span class=\"toc-item-num\">2.1.1&nbsp;&nbsp;</span>Onde eu consigo dados?</a></span></li></ul></li><li><span><a href=\"#Algumas-definições\" data-toc-modified-id=\"Algumas-definições-2.2\"><span class=\"toc-item-num\">2.2&nbsp;&nbsp;</span>Algumas definições</a></span><ul class=\"toc-item\"><li><span><a href=\"#Tipos-de-aprendizado\" data-toc-modified-id=\"Tipos-de-aprendizado-2.2.1\"><span class=\"toc-item-num\">2.2.1&nbsp;&nbsp;</span>Tipos de aprendizado</a></span></li><li><span><a href=\"#Layout-dos-dados\" data-toc-modified-id=\"Layout-dos-dados-2.2.2\"><span class=\"toc-item-num\">2.2.2&nbsp;&nbsp;</span>Layout dos dados</a></span></li></ul></li></ul></li><li><span><a href=\"#Aula-3\" data-toc-modified-id=\"Aula-3-3\"><span class=\"toc-item-num\">3&nbsp;&nbsp;</span>Aula 3</a></span></li></ul></div>"
   ]
  },
  {
   "cell_type": "markdown",
   "metadata": {},
   "source": [
    "* Aula 1: metodologia de trabalho\n",
    "* Aula 2: instalação de pacotes, nomenclatura e estrutura dos dados\n",
    "* Aula 3: entendimento dos dados \n",
    "* Aula 4: preparação dos dados\n",
    "* Aula 5: Modelo (arvore de decisao)\n",
    "* Aula 6: avaliação (matriz de confusão; acurácia; \n",
    "* Aula 7: deploy "
   ]
  },
  {
   "cell_type": "markdown",
   "metadata": {},
   "source": [
    "# Aula 1"
   ]
  },
  {
   "cell_type": "markdown",
   "metadata": {},
   "source": [
    "<img src='fluxograma-Go-Horse.gif'>"
   ]
  },
  {
   "cell_type": "code",
   "execution_count": 7,
   "metadata": {
    "scrolled": true
   },
   "outputs": [
    {
     "data": {
      "text/html": [
       "\n",
       "        <iframe\n",
       "            width=\"800\"\n",
       "            height=\"500\"\n",
       "            src=\"crisp-dm-nutshell-v3.pdf\"\n",
       "            frameborder=\"0\"\n",
       "            allowfullscreen\n",
       "        ></iframe>\n",
       "        "
      ],
      "text/plain": [
       "<IPython.lib.display.IFrame at 0x7fd1e0aad190>"
      ]
     },
     "execution_count": 7,
     "metadata": {},
     "output_type": "execute_result"
    }
   ],
   "source": [
    "from IPython.display import IFrame\n",
    "IFrame(\"crisp-dm-nutshell-v3.pdf\", width=800, height=500)"
   ]
  },
  {
   "cell_type": "markdown",
   "metadata": {},
   "source": [
    "Referência: https://www.youtube.com/watch?v=qtMzVEWo0d4&t=3s"
   ]
  },
  {
   "cell_type": "markdown",
   "metadata": {},
   "source": [
    "# Aula 2"
   ]
  },
  {
   "cell_type": "markdown",
   "metadata": {},
   "source": [
    "## Instalação"
   ]
  },
  {
   "cell_type": "markdown",
   "metadata": {},
   "source": [
    "Há duas opções principais para instalar bibliotecas Python:\n",
    "- **pip**: Pip Installs Python \n",
    "- **Anaconda**"
   ]
  },
  {
   "cell_type": "markdown",
   "metadata": {},
   "source": [
    "Você pode instalar pelo terminal, utilizando, por exemplo: \n",
    "\n",
    "$ pip install pandas"
   ]
  },
  {
   "cell_type": "markdown",
   "metadata": {},
   "source": [
    "Ou pode instalar aqui no notebook, usando\n",
    "\n",
    "! pip install pandas"
   ]
  },
  {
   "cell_type": "markdown",
   "metadata": {},
   "source": [
    "O mesmo vale para o Anaconda:\n",
    "   \n",
    "conda install pandas"
   ]
  },
  {
   "cell_type": "markdown",
   "metadata": {},
   "source": [
    "**Vamos instalar alguns pacotes que iremos usar aqui:**"
   ]
  },
  {
   "cell_type": "markdown",
   "metadata": {},
   "source": [
    "Para isso, vamos criar um ambiente isolado, em que poderemos instalar os pacotes e versões para o nosso projeto:\n",
    "\n",
    "*Linux*\n",
    "\n",
    "\\$ python -m venv env\n",
    "\n",
    "\\$ source env/bin/activate\n",
    "\n",
    "*Windows*\n",
    "\n",
    "C:> env\\Scripts\\activate.bat"
   ]
  },
  {
   "cell_type": "code",
   "execution_count": null,
   "metadata": {},
   "outputs": [],
   "source": [
    "! pip install pandas\n",
    "! pip install numpy\n",
    "! pip install pandas_profiling\n",
    "! pip install scipy\n",
    "! pip install sklearn\n",
    "! pip install statsmodels\n",
    "! pip install matplotlib\n",
    "! pip install seaborn"
   ]
  },
  {
   "cell_type": "markdown",
   "metadata": {},
   "source": [
    "https://pandas.pydata.org/pandas-docs/stable/user_guide/10min.html"
   ]
  },
  {
   "cell_type": "markdown",
   "metadata": {},
   "source": [
    "### Onde eu consigo dados?"
   ]
  },
  {
   "cell_type": "code",
   "execution_count": null,
   "metadata": {},
   "outputs": [],
   "source": [
    "# https://towardsdatascience.com/free-data-sets-for-machine-learning-73e74554cc21"
   ]
  },
  {
   "cell_type": "markdown",
   "metadata": {},
   "source": [
    "* Kaggle\n",
    "* Scikit-learn\n",
    "* UCI \n"
   ]
  },
  {
   "cell_type": "markdown",
   "metadata": {},
   "source": [
    "## Algumas definições"
   ]
  },
  {
   "cell_type": "markdown",
   "metadata": {},
   "source": [
    "###  Tipos de aprendizado"
   ]
  },
  {
   "cell_type": "markdown",
   "metadata": {},
   "source": [
    "* Supervisionado: Normalmente chamamos de **X** a matriz que contém as informações sobre os meus dados e de **y** os rotúlos\n",
    "\n",
    "* Não supervisionado\n",
    "\n",
    "* Por reforço"
   ]
  },
  {
   "cell_type": "markdown",
   "metadata": {},
   "source": [
    "### Layout dos dados"
   ]
  },
  {
   "cell_type": "markdown",
   "metadata": {},
   "source": [
    "# Aula 3"
   ]
  },
  {
   "cell_type": "markdown",
   "metadata": {},
   "source": [
    "* Entendimento do negócio"
   ]
  },
  {
   "cell_type": "code",
   "execution_count": null,
   "metadata": {},
   "outputs": [],
   "source": []
  },
  {
   "cell_type": "code",
   "execution_count": null,
   "metadata": {},
   "outputs": [],
   "source": [
    "https://pandas.pydata.org/pandas-docs/stable/user_guide/visualization.html"
   ]
  },
  {
   "cell_type": "markdown",
   "metadata": {},
   "source": [
    "* Entendimento dos dados"
   ]
  },
  {
   "cell_type": "code",
   "execution_count": null,
   "metadata": {},
   "outputs": [],
   "source": []
  }
 ],
 "metadata": {
  "kernelspec": {
   "display_name": "Python 3",
   "language": "python",
   "name": "python3"
  },
  "language_info": {
   "codemirror_mode": {
    "name": "ipython",
    "version": 3
   },
   "file_extension": ".py",
   "mimetype": "text/x-python",
   "name": "python",
   "nbconvert_exporter": "python",
   "pygments_lexer": "ipython3",
   "version": "3.7.6"
  },
  "toc": {
   "base_numbering": 1,
   "nav_menu": {},
   "number_sections": true,
   "sideBar": true,
   "skip_h1_title": false,
   "title_cell": "Table of Contents",
   "title_sidebar": "Contents",
   "toc_cell": true,
   "toc_position": {},
   "toc_section_display": true,
   "toc_window_display": true
  }
 },
 "nbformat": 4,
 "nbformat_minor": 4
}
