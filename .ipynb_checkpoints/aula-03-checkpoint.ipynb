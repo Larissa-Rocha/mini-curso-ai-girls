{
 "cells": [
  {
   "cell_type": "markdown",
   "metadata": {},
   "source": [
    "<img src='figures/logo.png'>"
   ]
  },
  {
   "cell_type": "markdown",
   "metadata": {
    "toc": true
   },
   "source": [
    "<h1>Table of Contents<span class=\"tocSkip\"></span></h1>\n",
    "<div class=\"toc\"><ul class=\"toc-item\"><li><span><a href=\"#Onde-queremos-chegar?\" data-toc-modified-id=\"Onde-queremos-chegar?-1\"><span class=\"toc-item-num\">1&nbsp;&nbsp;</span>Onde queremos chegar?</a></span></li><li><span><a href=\"#O-que-nossos-dados-podem-nos-dizer?\" data-toc-modified-id=\"O-que-nossos-dados-podem-nos-dizer?-2\"><span class=\"toc-item-num\">2&nbsp;&nbsp;</span>O que nossos dados podem nos dizer?</a></span><ul class=\"toc-item\"><li><span><a href=\"#Vamos-explorar!\" data-toc-modified-id=\"Vamos-explorar!-2.1\"><span class=\"toc-item-num\">2.1&nbsp;&nbsp;</span>Vamos explorar!</a></span><ul class=\"toc-item\"><li><span><a href=\"#Qual-a-porcentagem-de-dados-faltantes?\" data-toc-modified-id=\"Qual-a-porcentagem-de-dados-faltantes?-2.1.1\"><span class=\"toc-item-num\">2.1.1&nbsp;&nbsp;</span>Qual a porcentagem de dados faltantes?</a></span></li><li><span><a href=\"#Qual-a-distribuição-de-genero-dos-respondentes?\" data-toc-modified-id=\"Qual-a-distribuição-de-genero-dos-respondentes?-2.1.2\"><span class=\"toc-item-num\">2.1.2&nbsp;&nbsp;</span>Qual a distribuição de genero dos respondentes?</a></span></li><li><span><a href=\"#Qual-a-distribuição-de-idade-por-genêro?\" data-toc-modified-id=\"Qual-a-distribuição-de-idade-por-genêro?-2.1.3\"><span class=\"toc-item-num\">2.1.3&nbsp;&nbsp;</span>Qual a distribuição de idade por genêro?</a></span></li><li><span><a href=\"#Qual-a-distribuição-de-pais-de-origem?\" data-toc-modified-id=\"Qual-a-distribuição-de-pais-de-origem?-2.1.4\"><span class=\"toc-item-num\">2.1.4&nbsp;&nbsp;</span>Qual a distribuição de pais de origem?</a></span></li><li><span><a href=\"#Qual-o-grau-de-formação-por-genêro?\" data-toc-modified-id=\"Qual-o-grau-de-formação-por-genêro?-2.1.5\"><span class=\"toc-item-num\">2.1.5&nbsp;&nbsp;</span>Qual o grau de formação por genêro?</a></span></li><li><span><a href=\"#Qual-a-distribuição-de-carreiras-por-genêro?\" data-toc-modified-id=\"Qual-a-distribuição-de-carreiras-por-genêro?-2.1.6\"><span class=\"toc-item-num\">2.1.6&nbsp;&nbsp;</span>Qual a distribuição de carreiras por genêro?</a></span></li><li><span><a href=\"#Qual-a-distribuição-de-experiência-por-genêro?\" data-toc-modified-id=\"Qual-a-distribuição-de-experiência-por-genêro?-2.1.7\"><span class=\"toc-item-num\">2.1.7&nbsp;&nbsp;</span>Qual a distribuição de experiência por genêro?</a></span></li><li><span><a href=\"#Qual-a-distribuição-de-salário?\" data-toc-modified-id=\"Qual-a-distribuição-de-salário?-2.1.8\"><span class=\"toc-item-num\">2.1.8&nbsp;&nbsp;</span>Qual a distribuição de salário?</a></span></li></ul></li></ul></li><li><span><a href=\"#Referências\" data-toc-modified-id=\"Referências-3\"><span class=\"toc-item-num\">3&nbsp;&nbsp;</span>Referências</a></span></li></ul></div>"
   ]
  },
  {
   "cell_type": "markdown",
   "metadata": {},
   "source": [
    "# Onde queremos chegar?"
   ]
  },
  {
   "cell_type": "markdown",
   "metadata": {},
   "source": [
    "<img src='figures/call_data_scientist.jpeg'>"
   ]
  },
  {
   "cell_type": "markdown",
   "metadata": {},
   "source": [
    "**Entendimento do negócio**\n",
    "\n",
    "Antes de tudo, é importante entender o que deve ser feito. Algumas perguntas que podem nos ajudar são:"
   ]
  },
  {
   "cell_type": "markdown",
   "metadata": {},
   "source": [
    "**1** Quais os Objetivos Gerais? Quais os Objetivos Especificos?\n",
    "\n",
    "**2** Qual é o problema que você está tentando resolver?\n",
    "\n",
    "**3** Por que ele é importante?\n",
    "\n",
    "**4** A partir de uma solução hipotética para o problema, como esta solução afetaria a empresa?\n",
    "\n",
    "**5** Temos capacidade de agir com base nessa solução ou também precisamos desenvolver essa habilidade?\n",
    "\n",
    "**6** Como vamos medir o sucesso da solução implementada (KPI)? O que faria dela um sucesso? Qual métrica será utilizada?\n",
    "\n"
   ]
  },
  {
   "cell_type": "markdown",
   "metadata": {},
   "source": [
    " <font color='#000080'>Objetivos Gerais</font>:\n",
    "        * Prever o salário das mulheres que trabalham com tecnlogia\n",
    " <font color='#000080'>Objetivos Especificos</font>:\n",
    "        * Identificar se existe diferença entre o salario dos homens e das mulheres\n",
    "        * Identificar as variáveis que podem influenciar nessa diferença\n",
    " <font color='#000080'>Problema</font>:\n",
    "        * Identificar se existe um viés de genêro no salário\n",
    " <font color='#000080'>Porque ele é relevante</font>:\n",
    "        * A equidade de genêro é um dos Objetivos de Desenvolvimento Sustentável  da ONU\n",
    " \n",
    " <font color='#000080'>Como essa solução afetaria a empresa</font>:\n",
    "         * Ao identificar que mulheres com as mesmas caracteristicas dos homens ganham menos, é preciso informar o RH e então propor políticas de equidade  \n",
    " \n",
    " <font color='#000080'>Temos capacidade de agir com base nessa solução</font>:\n",
    "         * Sim\n",
    " \n",
    " <font color='#000080'>Como vamos medir o sucesso dessa solução</font>:\n",
    "         * Sucesso do metódo:\n",
    "             - AUC\n",
    "             - ROC\n",
    "         * Sucesso da solução:\n",
    "             - Implantação de novas políticas de remuneração \n",
    "\n",
    "\n"
   ]
  },
  {
   "cell_type": "markdown",
   "metadata": {},
   "source": [
    "Algumas ferramentas úteis:\n",
    "\n",
    "* Mapa de stakeholders\n",
    "* ML Canvas\n",
    "* Mapa de Riscos e Mitigadores"
   ]
  },
  {
   "cell_type": "markdown",
   "metadata": {},
   "source": [
    "# O que nossos dados podem nos dizer?"
   ]
  },
  {
   "cell_type": "code",
   "execution_count": null,
   "metadata": {},
   "outputs": [],
   "source": [
    "import pandas as pd\n",
    "import numpy as np\n",
    "import matplotlib.pyplot as plt\n",
    "import seaborn as sns\n",
    "from matplotlib.font_manager import FontProperties\n",
    "\n",
    "\n",
    "pd.set_option('display.max_columns', None)"
   ]
  },
  {
   "cell_type": "code",
   "execution_count": null,
   "metadata": {},
   "outputs": [],
   "source": [
    "df_choice = pd.read_csv('data/multipleChoiceResponses.csv',low_memory=False)"
   ]
  },
  {
   "cell_type": "code",
   "execution_count": null,
   "metadata": {
    "scrolled": true
   },
   "outputs": [],
   "source": [
    "df_choice.head(2)"
   ]
  },
  {
   "cell_type": "code",
   "execution_count": null,
   "metadata": {},
   "outputs": [],
   "source": [
    "df_choice.columns = df_choice.iloc[0]\n",
    "df_choice = df_choice.drop(0)\n",
    "df_choice.head(2)"
   ]
  },
  {
   "cell_type": "markdown",
   "metadata": {},
   "source": [
    "## Vamos explorar!\n"
   ]
  },
  {
   "cell_type": "code",
   "execution_count": null,
   "metadata": {
    "scrolled": true
   },
   "outputs": [],
   "source": [
    "df_choice.describe()"
   ]
  },
  {
   "cell_type": "markdown",
   "metadata": {},
   "source": [
    "### Qual a porcentagem de dados faltantes?"
   ]
  },
  {
   "cell_type": "code",
   "execution_count": null,
   "metadata": {},
   "outputs": [],
   "source": [
    "def missing_values_table(df):\n",
    "        mis_val = df.isnull().sum() # conta a quantidade de missing\n",
    "        mis_val_percent = 100 * df.isnull().sum() / len(df) # calcula a porcentagem\n",
    "        mis_val_table = pd.concat([mis_val, mis_val_percent], axis=1) # cria uma tabela\n",
    "        mis_val_table_ren_columns = mis_val_table.rename(\n",
    "        columns = {0 : 'Missing Values', 1 : '% of Total Values'}) # renomeia as colunas\n",
    "        mis_val_table_ren_columns = mis_val_table_ren_columns[\n",
    "            mis_val_table_ren_columns.iloc[:,1] != 0].sort_values(\n",
    "        '% of Total Values', ascending=False).round(1) # ordena os valores\n",
    "        print (\"Your selected dataframe has \" + str(df.shape[1]) + \" columns.\\n\"      \n",
    "            \"There are \" + str(mis_val_table_ren_columns.shape[0]) +\n",
    "              \" columns that have missing values.\")\n",
    "        return mis_val_table_ren_columns"
   ]
  },
  {
   "cell_type": "code",
   "execution_count": null,
   "metadata": {},
   "outputs": [],
   "source": [
    "missing_df = missing_values_table(df_choice)\n",
    "missing_df.tail()"
   ]
  },
  {
   "cell_type": "code",
   "execution_count": null,
   "metadata": {},
   "outputs": [],
   "source": [
    "# Get the columns with > 50% missing\n",
    "missing_columns = list(missing_df[missing_df['% of Total Values'] > 50].index)\n",
    "print('We will remove %d columns.' % len(missing_columns))"
   ]
  },
  {
   "cell_type": "markdown",
   "metadata": {},
   "source": [
    "### Qual a distribuição de genero dos respondentes? "
   ]
  },
  {
   "cell_type": "code",
   "execution_count": null,
   "metadata": {},
   "outputs": [],
   "source": [
    "fig, ax = plt.subplots(figsize=(12, 4))\n",
    "\n",
    "sns.countplot(x=df_choice['What is your gender? - Selected Choice'], ax=ax, order =df_choice['What is your gender? - Selected Choice'].value_counts().index)\n",
    "# Add labels to the plot\n",
    "# plt.annotate('78% are Man, 19.4% are Woman and less than 2% are others diversityes', xy=(1, 14000))\n",
    "plt.show()\n"
   ]
  },
  {
   "cell_type": "markdown",
   "metadata": {},
   "source": [
    "### Qual a distribuição de idade por genêro?"
   ]
  },
  {
   "cell_type": "code",
   "execution_count": null,
   "metadata": {},
   "outputs": [],
   "source": [
    "# Primeiro vamos verificar a distribuiçãode idade total\n",
    "\n",
    "fig, ax = plt.subplots(figsize=(12, 4))\n",
    "\n",
    "sns.countplot(x=df_choice['What is your age (# years)?'], ax=ax, order =df_choice['What is your age (# years)?'].value_counts().index)\n",
    "# Add labels to the plot\n",
    "# plt.annotate('78% are Man, 19.4% are Woman and less than 2% are others diversityes', xy=(1, 14000))\n",
    "plt.show()\n"
   ]
  },
  {
   "cell_type": "code",
   "execution_count": null,
   "metadata": {
    "scrolled": false
   },
   "outputs": [],
   "source": [
    "dist_gernder_age = pd.crosstab(df_choice['What is your gender? - Selected Choice'], df_choice['What is your age (# years)?']).apply(lambda r: r/r.sum(), axis=1)*100\n",
    "dist_gernder_age"
   ]
  },
  {
   "cell_type": "code",
   "execution_count": null,
   "metadata": {},
   "outputs": [],
   "source": [
    "dist_gernder_age.plot.bar(rot=90, figsize=(10,8))\n",
    "plt.legend()"
   ]
  },
  {
   "cell_type": "markdown",
   "metadata": {},
   "source": [
    "### Qual a distribuição de pais de origem?"
   ]
  },
  {
   "cell_type": "code",
   "execution_count": null,
   "metadata": {},
   "outputs": [],
   "source": [
    "df_choice.iloc[:,4].value_counts()"
   ]
  },
  {
   "cell_type": "code",
   "execution_count": null,
   "metadata": {
    "scrolled": false
   },
   "outputs": [],
   "source": [
    "# Primeiro vamos verificar a distribuiçãode idade total\n",
    "\n",
    "fig, ax = plt.subplots(figsize=(20, 4))\n",
    "\n",
    "sns.countplot(x=df_choice.iloc[:,4], ax=ax, order =df_choice.iloc[:,4].value_counts().index)\n",
    "# Add labels to the plot\n",
    "# plt.annotate('78% are Man, 19.4% are Woman and less than 2% are others diversityes', xy=(1, 14000))\n",
    "plt.xticks(rotation=75)\n",
    "\n",
    "plt.show()\n",
    "\n"
   ]
  },
  {
   "cell_type": "code",
   "execution_count": null,
   "metadata": {
    "scrolled": true
   },
   "outputs": [],
   "source": [
    "dist_gernder_country = pd.crosstab(df_choice.iloc[:,1], df_choice.iloc[:,4]).apply(lambda r: r/r.sum(), axis=1)*100\n",
    "dist_gernder_country"
   ]
  },
  {
   "cell_type": "code",
   "execution_count": null,
   "metadata": {},
   "outputs": [],
   "source": [
    "dist_gernder_country.plot.bar(rot=90, figsize=(10,8))\n",
    "\n",
    "fontP = FontProperties()\n",
    "fontP.set_size('small')\n",
    "plt.legend( bbox_to_anchor=(1.05, 1), loc='upper left', prop=fontP)"
   ]
  },
  {
   "cell_type": "markdown",
   "metadata": {},
   "source": [
    "### Qual o grau de formação por genêro? "
   ]
  },
  {
   "cell_type": "code",
   "execution_count": null,
   "metadata": {
    "scrolled": true
   },
   "outputs": [],
   "source": [
    "# Primeiro vamos verificar a distribuiçãode idade total\n",
    "\n",
    "fig, ax = plt.subplots(figsize=(12, 4))\n",
    "\n",
    "sns.countplot(x=df_choice.iloc[:,5], ax=ax, order =df_choice.iloc[:,5].value_counts().index)\n",
    "plt.xticks(rotation=75)\n",
    "\n",
    "# Add labels to the plot\n",
    "# plt.annotate('78% are Man, 19.4% are Woman and less than 2% are others diversityes', xy=(1, 14000))\n",
    "plt.show()\n"
   ]
  },
  {
   "cell_type": "code",
   "execution_count": null,
   "metadata": {
    "scrolled": true
   },
   "outputs": [],
   "source": [
    "dist_gernder_scholar = pd.crosstab(df_choice.iloc[:,1], df_choice.iloc[:,5]).apply(lambda r: r/r.sum(), axis=1)*100\n",
    "dist_gernder_scholar"
   ]
  },
  {
   "cell_type": "code",
   "execution_count": null,
   "metadata": {},
   "outputs": [],
   "source": [
    "dist_gernder_scholar.plot.bar(rot=90, figsize=(10,8))\n",
    "plt.legend()"
   ]
  },
  {
   "cell_type": "markdown",
   "metadata": {},
   "source": [
    "### Qual a distribuição de carreiras por genêro?"
   ]
  },
  {
   "cell_type": "code",
   "execution_count": null,
   "metadata": {},
   "outputs": [],
   "source": [
    "# Primeiro vamos verificar a distribuiçãode  total\n",
    "\n",
    "fig, ax = plt.subplots(figsize=(12, 4))\n",
    "\n",
    "sns.countplot(x=df_choice.iloc[:,7], ax=ax, order =df_choice.iloc[:,7].value_counts().index)\n",
    "plt.xticks(rotation=75)\n",
    "\n",
    "# Add labels to the plot\n",
    "# plt.annotate('78% are Man, 19.4% are Woman and less than 2% are others diversityes', xy=(1, 14000))\n",
    "plt.show()"
   ]
  },
  {
   "cell_type": "code",
   "execution_count": null,
   "metadata": {},
   "outputs": [],
   "source": [
    "pd.crosstab(df_choice.iloc[:,1], df_choice.iloc[:,7], margins=True, margins_name=\"Total\")"
   ]
  },
  {
   "cell_type": "code",
   "execution_count": null,
   "metadata": {
    "scrolled": false
   },
   "outputs": [],
   "source": [
    "dist_gernder_title = pd.crosstab(df_choice.iloc[:,1], df_choice.iloc[:,7]).apply(lambda r: r/r.sum(), axis=1)*100\n",
    "dist_gernder_title"
   ]
  },
  {
   "cell_type": "code",
   "execution_count": null,
   "metadata": {},
   "outputs": [],
   "source": [
    "dist_gernder_title.plot.bar(rot=90, figsize=(14,5))\n",
    "# plt.legend(loc=0)\n",
    "\n",
    "fontP = FontProperties()\n",
    "fontP.set_size('small')\n",
    "plt.legend( bbox_to_anchor=(1.05, 1), loc='upper left', prop=fontP)\n"
   ]
  },
  {
   "cell_type": "markdown",
   "metadata": {
    "code_folding": []
   },
   "source": [
    "### Qual a distribuição de experiência por genêro?"
   ]
  },
  {
   "cell_type": "code",
   "execution_count": null,
   "metadata": {
    "scrolled": true
   },
   "outputs": [],
   "source": [
    "# Primeiro vamos verificar a distribuiçãode  total\n",
    "\n",
    "fig, ax = plt.subplots(figsize=(12, 4))\n",
    "\n",
    "sns.countplot(x=df_choice.iloc[:,11], ax=ax, order =df_choice.iloc[:,11].value_counts().index)\n",
    "plt.xticks(rotation=75)\n",
    "\n",
    "# Add labels to the plot\n",
    "# plt.annotate('78% are Man, 19.4% are Woman and less than 2% are others diversityes', xy=(1, 14000))\n",
    "plt.show()"
   ]
  },
  {
   "cell_type": "code",
   "execution_count": null,
   "metadata": {
    "scrolled": true
   },
   "outputs": [],
   "source": [
    "dist_gernder_experience = pd.crosstab(df_choice.iloc[:,1], df_choice.iloc[:,11]).apply(lambda r: r/r.sum(), axis=1)*100\n",
    "dist_gernder_experience"
   ]
  },
  {
   "cell_type": "code",
   "execution_count": null,
   "metadata": {},
   "outputs": [],
   "source": [
    "dist_gernder_experience.plot.bar(rot=90, figsize=(12,5))\n",
    "plt.legend()"
   ]
  },
  {
   "cell_type": "markdown",
   "metadata": {},
   "source": [
    "### Qual a distribuição de salário? "
   ]
  },
  {
   "cell_type": "code",
   "execution_count": null,
   "metadata": {
    "scrolled": true
   },
   "outputs": [],
   "source": [
    "# Primeiro vamos verificar a distribuiçãode  total\n",
    "\n",
    "fig, ax = plt.subplots(figsize=(12, 4))\n",
    "\n",
    "sns.countplot(x=df_choice.iloc[:,12], ax=ax, order =df_choice.iloc[:,12].value_counts().index)\n",
    "plt.xticks(rotation=75)\n",
    "\n",
    "# Add labels to the plot\n",
    "# plt.annotate('78% are Man, 19.4% are Woman and less than 2% are others diversityes', xy=(1, 14000))\n",
    "plt.show()"
   ]
  },
  {
   "cell_type": "code",
   "execution_count": null,
   "metadata": {
    "scrolled": true
   },
   "outputs": [],
   "source": [
    "dist_gernder_compensation = pd.crosstab(df_choice.iloc[:,1], df_choice.iloc[:,12]).apply(lambda r: r/r.sum(), axis=1)*100\n",
    "dist_gernder_compensation"
   ]
  },
  {
   "cell_type": "code",
   "execution_count": null,
   "metadata": {},
   "outputs": [],
   "source": [
    "dist_gernder_compensation.plot.bar(rot=90, figsize=(10,8))\n",
    "\n",
    "fontP = FontProperties()\n",
    "fontP.set_size('small')\n",
    "plt.legend( bbox_to_anchor=(1.05, 1), loc='upper left', prop=fontP)"
   ]
  },
  {
   "cell_type": "markdown",
   "metadata": {},
   "source": [
    "# Referências"
   ]
  },
  {
   "cell_type": "markdown",
   "metadata": {},
   "source": [
    "* https://www.kaggle.com/theoviel/kagglers-gender-pay-gap-salary-prediction/data?select=multipleChoiceResponses.csv\n",
    "* https://pandas.pydata.org/pandas-docs/stable/user_guide/visualization.html\n",
    "* https://hbr.org/2016/06/visualizations-that-really-work"
   ]
  }
 ],
 "metadata": {
  "kernelspec": {
   "display_name": "Python 3",
   "language": "python",
   "name": "python3"
  },
  "language_info": {
   "codemirror_mode": {
    "name": "ipython",
    "version": 3
   },
   "file_extension": ".py",
   "mimetype": "text/x-python",
   "name": "python",
   "nbconvert_exporter": "python",
   "pygments_lexer": "ipython3",
   "version": "3.7.6"
  },
  "toc": {
   "base_numbering": 1,
   "nav_menu": {},
   "number_sections": true,
   "sideBar": true,
   "skip_h1_title": false,
   "title_cell": "Table of Contents",
   "title_sidebar": "Contents",
   "toc_cell": true,
   "toc_position": {},
   "toc_section_display": true,
   "toc_window_display": true
  }
 },
 "nbformat": 4,
 "nbformat_minor": 4
}
