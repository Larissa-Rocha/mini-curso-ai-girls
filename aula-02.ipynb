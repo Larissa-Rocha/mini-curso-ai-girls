{
 "cells": [
  {
   "cell_type": "markdown",
   "metadata": {},
   "source": [
    "<img src='figures/logo.png'>"
   ]
  },
  {
   "cell_type": "markdown",
   "metadata": {
    "toc": true
   },
   "source": [
    "<h1>Table of Contents<span class=\"tocSkip\"></span></h1>\n",
    "<div class=\"toc\"><ul class=\"toc-item\"><li><span><a href=\"#Resumo!\" data-toc-modified-id=\"Resumo!-1\"><span class=\"toc-item-num\">1&nbsp;&nbsp;</span>Resumo!</a></span></li><li><span><a href=\"#Mão-no-código\" data-toc-modified-id=\"Mão-no-código-2\"><span class=\"toc-item-num\">2&nbsp;&nbsp;</span>Mão no código</a></span><ul class=\"toc-item\"><li><span><a href=\"#Instalação\" data-toc-modified-id=\"Instalação-2.1\"><span class=\"toc-item-num\">2.1&nbsp;&nbsp;</span>Instalação</a></span><ul class=\"toc-item\"><li><span><a href=\"#Onde-eu-consigo-dados?\" data-toc-modified-id=\"Onde-eu-consigo-dados?-2.1.1\"><span class=\"toc-item-num\">2.1.1&nbsp;&nbsp;</span>Onde eu consigo dados?</a></span></li></ul></li></ul></li><li><span><a href=\"#Algumas-definições\" data-toc-modified-id=\"Algumas-definições-3\"><span class=\"toc-item-num\">3&nbsp;&nbsp;</span>Algumas definições</a></span><ul class=\"toc-item\"><li><ul class=\"toc-item\"><li><span><a href=\"#Layout-dos-dados\" data-toc-modified-id=\"Layout-dos-dados-3.0.1\"><span class=\"toc-item-num\">3.0.1&nbsp;&nbsp;</span>Layout dos dados</a></span></li><li><span><a href=\"#Tipos-de-dados\" data-toc-modified-id=\"Tipos-de-dados-3.0.2\"><span class=\"toc-item-num\">3.0.2&nbsp;&nbsp;</span>Tipos de dados</a></span></li><li><span><a href=\"#Tipos-de-aprendizado\" data-toc-modified-id=\"Tipos-de-aprendizado-3.0.3\"><span class=\"toc-item-num\">3.0.3&nbsp;&nbsp;</span>Tipos de aprendizado</a></span></li><li><span><a href=\"#Porque-é-importante-saber-essas-definições?\" data-toc-modified-id=\"Porque-é-importante-saber-essas-definições?-3.0.4\"><span class=\"toc-item-num\">3.0.4&nbsp;&nbsp;</span>Porque é importante saber essas definições?</a></span></li></ul></li></ul></li><li><span><a href=\"#Referências\" data-toc-modified-id=\"Referências-4\"><span class=\"toc-item-num\">4&nbsp;&nbsp;</span>Referências</a></span></li></ul></div>"
   ]
  },
  {
   "cell_type": "markdown",
   "metadata": {},
   "source": [
    "# Resumo!"
   ]
  },
  {
   "cell_type": "markdown",
   "metadata": {},
   "source": [
    "No vídeo anterior nós falamos um pouquinho sobre a importância de se planejar antes de iniciar um projeto. Foi mostrada a metodologia CRISP-DM, que consiste de 6 etapas iterativas para que a gente consiga entregar um projeto de qualidade."
   ]
  },
  {
   "cell_type": "markdown",
   "metadata": {},
   "source": [
    "# Mão no código"
   ]
  },
  {
   "cell_type": "markdown",
   "metadata": {},
   "source": [
    "## Instalação"
   ]
  },
  {
   "cell_type": "markdown",
   "metadata": {},
   "source": [
    "Há duas opções principais para instalar bibliotecas Python:\n",
    "- **pip**: Pip Installs Python \n",
    "- **Anaconda**"
   ]
  },
  {
   "cell_type": "markdown",
   "metadata": {},
   "source": [
    "<font color='#6600cc'>Instalação Windows</font>: "
   ]
  },
  {
   "cell_type": "markdown",
   "metadata": {},
   "source": [
    "* Instalação do Python \n",
    " - https://python.org.br/instalacao-windows/\n",
    "* Instalação do Anaconda \n",
    "  - https://www.anaconda.com/products/individual#windows  \n",
    "    "
   ]
  },
  {
   "cell_type": "markdown",
   "metadata": {},
   "source": [
    "<font color='#6600cc'>Instalação Linux</font>: "
   ]
  },
  {
   "cell_type": "markdown",
   "metadata": {},
   "source": [
    "* Instalação do Python\n",
    " - https://python.org.br/instalacao-linux/\n",
    "* Instalação do Anaconda\n",
    " - http://www.leg.ufpr.br/~walmes/ensino/dsbd-linprog/instalacao-anaconda.html"
   ]
  },
  {
   "cell_type": "markdown",
   "metadata": {},
   "source": [
    "Como usar o pip?\n",
    " - https://pip.pypa.io/en/stable/installing/\n"
   ]
  },
  {
   "cell_type": "markdown",
   "metadata": {},
   "source": [
    "Você pode instalar pelo terminal, utilizando, por exemplo: \n",
    "\n",
    "<img src='figures/pipinstall.png'>\n",
    "\n"
   ]
  },
  {
   "cell_type": "markdown",
   "metadata": {},
   "source": [
    "Ou pode instalar aqui no notebook, usando:"
   ]
  },
  {
   "cell_type": "code",
   "execution_count": 1,
   "metadata": {},
   "outputs": [
    {
     "name": "stdout",
     "output_type": "stream",
     "text": [
      "Requirement already satisfied: pandas in /home/walkira/anaconda3/lib/python3.7/site-packages (1.1.3)\n",
      "Requirement already satisfied: numpy>=1.15.4 in /home/walkira/anaconda3/lib/python3.7/site-packages (from pandas) (1.18.1)\n",
      "Requirement already satisfied: pytz>=2017.2 in /home/walkira/anaconda3/lib/python3.7/site-packages (from pandas) (2019.3)\n",
      "Requirement already satisfied: python-dateutil>=2.7.3 in /home/walkira/anaconda3/lib/python3.7/site-packages (from pandas) (2.8.1)\n",
      "Requirement already satisfied: six>=1.5 in /home/walkira/anaconda3/lib/python3.7/site-packages (from python-dateutil>=2.7.3->pandas) (1.14.0)\n"
     ]
    }
   ],
   "source": [
    "! pip install pandas"
   ]
  },
  {
   "cell_type": "markdown",
   "metadata": {},
   "source": [
    "O mesmo vale para o Anaconda:\n",
    "   \n",
    "conda install pandas"
   ]
  },
  {
   "cell_type": "markdown",
   "metadata": {},
   "source": [
    "**Vamos instalar alguns pacotes que iremos usar aqui:**"
   ]
  },
  {
   "cell_type": "markdown",
   "metadata": {},
   "source": [
    "Para isso, vamos criar um ambiente isolado, em que poderemos instalar os pacotes e versões para o nosso projeto:\n",
    "\n",
    "*Linux*\n",
    "\n",
    "\\$ python -m venv env_curso_ai\n",
    "\n",
    "\\$ source env_curso_ai/bin/activate\n",
    "\n",
    "*Windows*\n",
    "\n",
    "C:> env_curso_ai\\Scripts\\activate.bat"
   ]
  },
  {
   "cell_type": "code",
   "execution_count": null,
   "metadata": {},
   "outputs": [],
   "source": [
    "! pip install pandas\n",
    "! pip install numpy\n",
    "! pip install pandas_profiling\n",
    "! pip install scipy\n",
    "! pip install sklearn\n",
    "! pip install statsmodels\n",
    "! pip install matplotlib\n",
    "! pip install seaborn"
   ]
  },
  {
   "cell_type": "markdown",
   "metadata": {},
   "source": [
    "https://pandas.pydata.org/pandas-docs/stable/user_guide/10min.html"
   ]
  },
  {
   "cell_type": "markdown",
   "metadata": {},
   "source": [
    "Um ambiente virtual isola as instalações que você faz. Isso evita problemas de versão entre os projetos. Por exemplo, em um projeto você usou a versão 1 de um pacote e em outro você usou a versão 2 do pacote. Mas na versão 2 algumas funcionalidades do pacote não existem mais e você usava isso no projeto 1. Você terá dor de cabeça para atualizar seu código. Então é sempre uma boa prática criar os ambientes virtuais para os seus projetos."
   ]
  },
  {
   "cell_type": "markdown",
   "metadata": {},
   "source": [
    "\n",
    "\n",
    "### Onde eu consigo dados?"
   ]
  },
  {
   "cell_type": "code",
   "execution_count": null,
   "metadata": {},
   "outputs": [],
   "source": [
    "# https://towardsdatascience.com/free-data-sets-for-machine-learning-73e74554cc21"
   ]
  },
  {
   "cell_type": "markdown",
   "metadata": {},
   "source": [
    "* Kaggle\n",
    "* Scikit-learn\n",
    "* UCI \n"
   ]
  },
  {
   "cell_type": "markdown",
   "metadata": {},
   "source": [
    "# Algumas definições"
   ]
  },
  {
   "cell_type": "markdown",
   "metadata": {},
   "source": [
    "### Layout dos dados"
   ]
  },
  {
   "cell_type": "markdown",
   "metadata": {},
   "source": [
    "<img src='figures/dataset_regressao.png'>"
   ]
  },
  {
   "cell_type": "markdown",
   "metadata": {},
   "source": [
    "<img src='figures/dataset_classificacao.png'>"
   ]
  },
  {
   "cell_type": "markdown",
   "metadata": {},
   "source": [
    "<img src='figures/dataset-cluster.png'>"
   ]
  },
  {
   "cell_type": "markdown",
   "metadata": {},
   "source": [
    "### Tipos de dados"
   ]
  },
  {
   "cell_type": "markdown",
   "metadata": {},
   "source": [
    "As Variáveis, que são as características que explicam meus dados podem ser:\n",
    "\n",
    "**Categóricas**: não possuem valores quantitativos.\n",
    "\n",
    "**Nominais**: não existe uma ordenação dentro da categoria: ex.: cor dos olhos. As variáveis binárias entram nessa categoria.\n",
    "\n",
    "**Ordinais**: existe uma ordenação: escolaridade (Fundamental,Medio,Superior)\n",
    "    \n",
    "**Númericas**:  podem ser medidas quantitativamente.\n",
    "\n",
    "**Discretas**: podem assumir apenas um valor finito. ex.: número de cigarros fumados por dia\n",
    "\n",
    "**Continuas**: podem assumir valores continuos, em que valores fracionais fazem sentido. ex.: peso\n"
   ]
  },
  {
   "cell_type": "markdown",
   "metadata": {},
   "source": [
    "###  Tipos de aprendizado"
   ]
  },
  {
   "cell_type": "markdown",
   "metadata": {},
   "source": [
    "* **Supervisionado:** Conheço a classe dos dados. O valor pode ser continuo ou categorico. \n",
    "Quando temos um valor continuo, usamos algoritmos do tipo Regressão e quando o valor é categórico usamos algoritmos de de Classificação;\n",
    "\n",
    "\n",
    "* **Não supervisionado:** Nesse caso não conhecemos as classes dos dados. \n"
   ]
  },
  {
   "cell_type": "markdown",
   "metadata": {},
   "source": [
    "### Porque é importante saber essas definições?"
   ]
  },
  {
   "cell_type": "markdown",
   "metadata": {},
   "source": [
    "Existem técnicas de visualização, tratamento dos dados e de aprendizado para cada uma dessas definições!"
   ]
  },
  {
   "cell_type": "markdown",
   "metadata": {},
   "source": [
    "# Referências"
   ]
  },
  {
   "cell_type": "markdown",
   "metadata": {},
   "source": [
    "* https://python.org.br/instalacao-windows\n",
    "* https://www.linkedin.com/pulse/tutorial-pr%C3%A1tico-de-como-instalar-anaconda-para-gomes-de-lima/?originalSubdomain=pt\n",
    "* https://python.org.br/instalacao-linux/\n",
    "* http://www.leg.ufpr.br/~walmes/ensino/dsbd-linprog/instalacao-anaconda.html\n",
    "* https://pip.pypa.io/en/stable/installing/"
   ]
  }
 ],
 "metadata": {
  "kernelspec": {
   "display_name": "Python 3",
   "language": "python",
   "name": "python3"
  },
  "language_info": {
   "codemirror_mode": {
    "name": "ipython",
    "version": 3
   },
   "file_extension": ".py",
   "mimetype": "text/x-python",
   "name": "python",
   "nbconvert_exporter": "python",
   "pygments_lexer": "ipython3",
   "version": "3.7.6"
  },
  "toc": {
   "base_numbering": 1,
   "nav_menu": {},
   "number_sections": true,
   "sideBar": true,
   "skip_h1_title": false,
   "title_cell": "Table of Contents",
   "title_sidebar": "Contents",
   "toc_cell": true,
   "toc_position": {
    "height": "calc(100% - 180px)",
    "left": "10px",
    "top": "150px",
    "width": "271.594px"
   },
   "toc_section_display": true,
   "toc_window_display": false
  }
 },
 "nbformat": 4,
 "nbformat_minor": 4
}
